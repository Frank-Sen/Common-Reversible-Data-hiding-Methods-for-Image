{
 "cells": [
  {
   "cell_type": "code",
   "execution_count": 1,
   "id": "32c5a597",
   "metadata": {},
   "outputs": [],
   "source": [
    "import pandas as pd\n",
    "import numpy as np\n",
    "from PIL import Image"
   ]
  },
  {
   "cell_type": "markdown",
   "id": "b20220fa",
   "metadata": {},
   "source": [
    "### 实现image与pandas矩阵互转"
   ]
  },
  {
   "cell_type": "code",
   "execution_count": 2,
   "id": "7ac46280",
   "metadata": {},
   "outputs": [],
   "source": [
    "## 这个函数将图片转为pandas灰度矩阵\n",
    "def grayscale_to_matrix(image_path):\n",
    "    # 打开图像\n",
    "    image = Image.open(image_path)\n",
    "    # 将图像转换为灰度图像\n",
    "    grayscale_image = image.convert(\"L\")\n",
    "    # 转换为 numpy 数组\n",
    "    image_np = np.array(grayscale_image)\n",
    "    #转换为pandas矩阵\n",
    "    image_df=pd.DataFrame(image_np)\n",
    "    return image_np,image_df\n",
    "\n",
    "##这个函数将矩阵转换为图片，传入一个pandas矩阵\n",
    "def matrix_to_image(matrix,name):\n",
    "    # 将 Pandas DataFrame 转换为 NumPy 数组\n",
    "    image_array = matrix.to_numpy(dtype='uint8')\n",
    "    # 创建 Image 对象\n",
    "    image = Image.fromarray(image_array)\n",
    "    # 保存图像为 BMP 文件\n",
    "    image.save(name)\n",
    "    return "
   ]
  },
  {
   "cell_type": "markdown",
   "id": "e7842b71",
   "metadata": {},
   "source": [
    "### 实现csv文件与pandas矩阵互转"
   ]
  },
  {
   "cell_type": "code",
   "execution_count": 3,
   "id": "cd37b415",
   "metadata": {},
   "outputs": [],
   "source": [
    "def to_csvs(df):\n",
    "    df.to_csv(\"out.csv\",index=False, header=False)#不保存行索引和列索引\n",
    "    \n",
    "def csv_to_matrix(file_path):\n",
    "    # 从CSV文件加载数据并转换为Pandas DataFrame\n",
    "    matrix = pd.read_csv(file_path, header=None)#header=None是说不要将第一行转换为列名\n",
    "    return matrix"
   ]
  },
  {
   "cell_type": "markdown",
   "id": "672fbdfb",
   "metadata": {},
   "source": [
    "### 将大图像切成若干图像块"
   ]
  },
  {
   "cell_type": "code",
   "execution_count": 4,
   "id": "74c50c8d",
   "metadata": {},
   "outputs": [],
   "source": [
    "# n1:图像块的高\n",
    "# n2:图像块的宽\n",
    "def split_matrix(matrix,n1,n2):\n",
    "    # 计算矩阵的行数和列数\n",
    "    rows, cols = matrix.shape\n",
    "    # 创建一个空的字典来存储子矩阵\n",
    "    sub_matrices = {}\n",
    "    \n",
    "    # 将矩阵分割为若干个 n1*n2 的子矩阵\n",
    "    index = 1\n",
    "    for i in range(0, rows, n1):\n",
    "        for j in range(0, cols, n2):\n",
    "            sub_matrix = matrix.iloc[i:i+n1, j:j+n2]\n",
    "            sub_matrices[index] = sub_matrix\n",
    "            index += 1\n",
    "    return sub_matrices"
   ]
  },
  {
   "cell_type": "markdown",
   "id": "45586f10",
   "metadata": {},
   "source": [
    "### 将若干图像块矩阵拼成一个大图像矩阵"
   ]
  },
  {
   "cell_type": "code",
   "execution_count": 5,
   "id": "e72c3172",
   "metadata": {},
   "outputs": [],
   "source": [
    "# 定义最开始的大图像矩阵被分割成“m1*m2”个小矩阵\n",
    "# m1是指大图像矩阵一行上被分割为多少个小矩阵,取决于图像块block的大小\n",
    "\n",
    "def combine_dataframes(dictionary,m1):\n",
    "    # 按照键的大小顺序对字典中的 DataFrame 进行排序\n",
    "    sorted_dfs = sorted(dictionary.items(), key=lambda x: x[0])\n",
    "    \n",
    "    # 将排序后的 DataFrame 以每 m1 个一组的方式拼接成一行\n",
    "    rows = [pd.concat([df for _, df in sorted_dfs[i:i+m1]], axis=1) for i in range(0, len(sorted_dfs), m1)]\n",
    "    \n",
    "    # 将拼接后的每行 DataFrame 组合成一个大的 DataFrame\n",
    "    result_df = pd.concat(rows, axis=0)\n",
    "    \n",
    "    return result_df\n"
   ]
  },
  {
   "cell_type": "markdown",
   "id": "94990416",
   "metadata": {},
   "source": [
    "### 将图像块的灰度矩阵转化为灰度值序列"
   ]
  },
  {
   "cell_type": "code",
   "execution_count": 6,
   "id": "c63354d1",
   "metadata": {},
   "outputs": [],
   "source": [
    "def matrix_to_dict(matrix):\n",
    "    # 将 Pandas DataFrame 转换为 NumPy 数组\n",
    "    array = matrix.to_numpy()\n",
    "    # 创建一个空的字典\n",
    "    result_dict = {}    #result_dict记录的是原始顺序的灰度矩阵信息，以“原始序号：灰度值”的形式存储\n",
    "    # 获取矩阵的行数和列数\n",
    "    rows, cols = array.shape\n",
    "    # 遍历矩阵中的每个元素，并按顺序编号存储到字典中\n",
    "    index = 1\n",
    "    for i in range(rows):\n",
    "        for j in range(cols):\n",
    "            result_dict[index] = array[i][j]\n",
    "            index += 1\n",
    "    #sorted_dict记录的是排序顺序的灰度矩阵信息，以“原始序号：灰度值”的形式存储\n",
    "    sorted_list = sorted(result_dict.items(), key=lambda x: x[1], reverse=True)\n",
    "    return result_dict,sorted_list"
   ]
  },
  {
   "cell_type": "markdown",
   "id": "3777b505",
   "metadata": {},
   "source": [
    "### 将灰度值序列转化为图像块灰度矩阵"
   ]
  },
  {
   "cell_type": "code",
   "execution_count": 7,
   "id": "9a751d90",
   "metadata": {},
   "outputs": [],
   "source": [
    "# n1:图像块的高\n",
    "# n2:图像块的宽\n",
    "def list_to_dataframe(data,n1,n2):\n",
    "    # 生成一个2x2的空DataFrame\n",
    "    matrix = pd.DataFrame(index=range(n1), columns=range(n2))\n",
    "    \n",
    "    # 按照元组的第一个元素排序\n",
    "    sorted_data = sorted(data, key=lambda x: x[0])\n",
    "    \n",
    "    # 逐个填充到DataFrame中\n",
    "    for idx, (i, j) in enumerate(sorted_data):\n",
    "        matrix.iloc[idx // n2, idx % n2] = j\n",
    "    \n",
    "    return matrix"
   ]
  },
  {
   "cell_type": "markdown",
   "id": "c12c0d4a",
   "metadata": {},
   "source": [
    "### 计算e_max"
   ]
  },
  {
   "cell_type": "code",
   "execution_count": 8,
   "id": "ff41f8bb",
   "metadata": {},
   "outputs": [],
   "source": [
    "def calculate_e_max(block_matrix):#传入一个图像块的灰度矩阵\n",
    "    #将灰度矩阵的像素点按灰度值大小排序\n",
    "    #sorted_list是这样的：[(2, 199), (4, 196), (1, 65), (3, 54)]\n",
    "    #以(2, 199)为例，2是像素点排序前的的原始编号，199是像素点的灰度值\n",
    "    \n",
    "    _,sorted_list=matrix_to_dict(block_matrix) \n",
    "    k=0\n",
    "    temp=sorted_list[0][1] #存储排在最前面的像素点的灰度值\n",
    "    for i in sorted_list:\n",
    "        if i[1]==temp:\n",
    "            k=k+1\n",
    "        else :\n",
    "            break\n",
    "    #if k==len(sorted_list):#说明这个block块的所有灰度值都相等，另其e_max=0         \n",
    "    if k ==len(sorted_list):\n",
    "        e_max=0\n",
    "        return e_max,k\n",
    "    e_max=int(sorted_list[0][1])-int(sorted_list[k][1])\n",
    "    return e_max,k\n",
    "    "
   ]
  },
  {
   "cell_type": "markdown",
   "id": "900fe406",
   "metadata": {},
   "source": [
    "### 二进制序列与文字序列互转"
   ]
  },
  {
   "cell_type": "code",
   "execution_count": 9,
   "id": "5346bda8",
   "metadata": {},
   "outputs": [],
   "source": [
    "def binary_to_text(binary_sequence):\n",
    "    # 将二进制序列按照每8位拆分为一个字节\n",
    "    bytes_list = [binary_sequence[i:i+8] for i in range(0, len(binary_sequence), 8)]\n",
    "    # 将每个字节转换为对应的 ASCII 字符\n",
    "    text = ''.join(chr(int(byte, 2)) for byte in bytes_list)\n",
    "    return text\n",
    "\n",
    "def text_to_binary(text):\n",
    "    # 将字符串转换为 ASCII 编码的字节序列\n",
    "    bytes_text = text.encode('ascii')\n",
    "    # 将字节序列转换为二进制字符串\n",
    "    binary_text = ''.join(format(byte, '08b') for byte in bytes_text)\n",
    "    bit_list = [int(bit) for bit in binary_text]\n",
    "    print(\"嵌入信息大小为：\"+str(len(bit_list))+\" bits\")\n",
    "    return binary_text,bit_list"
   ]
  },
  {
   "cell_type": "markdown",
   "id": "244f05ba",
   "metadata": {},
   "source": [
    "### 找到一个DataFrame中的最大值以及其对应的逻辑索引"
   ]
  },
  {
   "cell_type": "code",
   "execution_count": 10,
   "id": "4b6d13fb",
   "metadata": {},
   "outputs": [],
   "source": [
    "#找TOP1的像素点编号，k=1，找TOP2的像素点编号，k=2\n",
    "#n2是图像块的宽度\n",
    "def find_max_value_and_position(dataframe,k,n2):\n",
    "    #sorted_list是这样的：[(2, 199), (4, 196), (1, 65), (3, 54)]\n",
    "    _,sort_list=matrix_to_dict(j)\n",
    "    #讨论想找最大的元素但是前两个最大元素的值都相同该怎么办:两个序号都返回\n",
    "    #row1,col1是大序号的元素的索引，row2,col2是小序号的元素的索引\n",
    "    if k==1 and sort_list[0][1]==sort_list[1][1]:\n",
    "        number1=max(sort_list[0][0],sort_list[1][0])\n",
    "        row1=(number1-1)//n2\n",
    "        col1=(number1-1)%n2\n",
    "        number2=min(sort_list[0][0],sort_list[1][0])\n",
    "        row2=(number2-1)//n2\n",
    "        col2=(number2-1)%n2\n",
    "        return row1,col1,row2,col2\n",
    "    number=sort_list[k-1][0]\n",
    "    row=(number-1)//n2\n",
    "    col=(number-1)%n2\n",
    "    return row, col"
   ]
  },
  {
   "cell_type": "code",
   "execution_count": 11,
   "id": "e920bf68",
   "metadata": {},
   "outputs": [],
   "source": [
    "def num_to_loc(number,n2): #根据像素点的序号，返回其在灰度矩阵的物理坐标\n",
    "    #n2是图像块block的宽，即列数\n",
    "    row=(number-1)//n2\n",
    "    col=(number-1)%n2\n",
    "    return row,col"
   ]
  },
  {
   "cell_type": "code",
   "execution_count": 12,
   "id": "8f232ef8",
   "metadata": {},
   "outputs": [],
   "source": [
    "#检查嵌入到这个图像块中的序列类型\n",
    "def check_list_type(lst):\n",
    "    all_zeros = all(x == 0 for x in lst)\n",
    "    all_ones = all(x == 1 for x in lst)\n",
    "    mixed = not all_zeros and not all_ones\n",
    "    \n",
    "    if all_zeros:\n",
    "        return 0\n",
    "    elif all_ones:\n",
    "        return 1\n",
    "    elif mixed:\n",
    "        return 10"
   ]
  },
  {
   "cell_type": "code",
   "execution_count": null,
   "id": "f86885e5",
   "metadata": {},
   "outputs": [],
   "source": []
  },
  {
   "cell_type": "code",
   "execution_count": null,
   "id": "bda6761d",
   "metadata": {},
   "outputs": [],
   "source": []
  },
  {
   "cell_type": "code",
   "execution_count": null,
   "id": "9b8adfb5",
   "metadata": {},
   "outputs": [],
   "source": []
  },
  {
   "cell_type": "markdown",
   "id": "92eeadfa",
   "metadata": {},
   "source": [
    "# 主函数"
   ]
  },
  {
   "cell_type": "markdown",
   "id": "99117217",
   "metadata": {},
   "source": [
    "### 加密部分"
   ]
  },
  {
   "cell_type": "code",
   "execution_count": 13,
   "id": "7ccb66e3",
   "metadata": {},
   "outputs": [],
   "source": [
    "image_np,image_df=grayscale_to_matrix(\"Lena.bmp\")"
   ]
  },
  {
   "cell_type": "code",
   "execution_count": 14,
   "id": "fdb7cf85",
   "metadata": {},
   "outputs": [
    {
     "data": {
      "text/html": [
       "<div>\n",
       "<style scoped>\n",
       "    .dataframe tbody tr th:only-of-type {\n",
       "        vertical-align: middle;\n",
       "    }\n",
       "\n",
       "    .dataframe tbody tr th {\n",
       "        vertical-align: top;\n",
       "    }\n",
       "\n",
       "    .dataframe thead th {\n",
       "        text-align: right;\n",
       "    }\n",
       "</style>\n",
       "<table border=\"1\" class=\"dataframe\">\n",
       "  <thead>\n",
       "    <tr style=\"text-align: right;\">\n",
       "      <th></th>\n",
       "      <th>0</th>\n",
       "      <th>1</th>\n",
       "      <th>2</th>\n",
       "      <th>3</th>\n",
       "      <th>4</th>\n",
       "      <th>5</th>\n",
       "      <th>6</th>\n",
       "      <th>7</th>\n",
       "      <th>8</th>\n",
       "      <th>9</th>\n",
       "      <th>...</th>\n",
       "      <th>502</th>\n",
       "      <th>503</th>\n",
       "      <th>504</th>\n",
       "      <th>505</th>\n",
       "      <th>506</th>\n",
       "      <th>507</th>\n",
       "      <th>508</th>\n",
       "      <th>509</th>\n",
       "      <th>510</th>\n",
       "      <th>511</th>\n",
       "    </tr>\n",
       "  </thead>\n",
       "  <tbody>\n",
       "    <tr>\n",
       "      <th>0</th>\n",
       "      <td>162</td>\n",
       "      <td>162</td>\n",
       "      <td>162</td>\n",
       "      <td>161</td>\n",
       "      <td>162</td>\n",
       "      <td>157</td>\n",
       "      <td>163</td>\n",
       "      <td>161</td>\n",
       "      <td>165</td>\n",
       "      <td>161</td>\n",
       "      <td>...</td>\n",
       "      <td>120</td>\n",
       "      <td>124</td>\n",
       "      <td>138</td>\n",
       "      <td>163</td>\n",
       "      <td>168</td>\n",
       "      <td>170</td>\n",
       "      <td>171</td>\n",
       "      <td>170</td>\n",
       "      <td>155</td>\n",
       "      <td>128</td>\n",
       "    </tr>\n",
       "    <tr>\n",
       "      <th>1</th>\n",
       "      <td>162</td>\n",
       "      <td>162</td>\n",
       "      <td>162</td>\n",
       "      <td>161</td>\n",
       "      <td>162</td>\n",
       "      <td>157</td>\n",
       "      <td>163</td>\n",
       "      <td>161</td>\n",
       "      <td>165</td>\n",
       "      <td>161</td>\n",
       "      <td>...</td>\n",
       "      <td>120</td>\n",
       "      <td>124</td>\n",
       "      <td>138</td>\n",
       "      <td>163</td>\n",
       "      <td>168</td>\n",
       "      <td>170</td>\n",
       "      <td>171</td>\n",
       "      <td>170</td>\n",
       "      <td>155</td>\n",
       "      <td>128</td>\n",
       "    </tr>\n",
       "    <tr>\n",
       "      <th>2</th>\n",
       "      <td>162</td>\n",
       "      <td>162</td>\n",
       "      <td>162</td>\n",
       "      <td>161</td>\n",
       "      <td>162</td>\n",
       "      <td>157</td>\n",
       "      <td>163</td>\n",
       "      <td>161</td>\n",
       "      <td>165</td>\n",
       "      <td>161</td>\n",
       "      <td>...</td>\n",
       "      <td>120</td>\n",
       "      <td>124</td>\n",
       "      <td>138</td>\n",
       "      <td>163</td>\n",
       "      <td>168</td>\n",
       "      <td>170</td>\n",
       "      <td>171</td>\n",
       "      <td>170</td>\n",
       "      <td>155</td>\n",
       "      <td>128</td>\n",
       "    </tr>\n",
       "    <tr>\n",
       "      <th>3</th>\n",
       "      <td>162</td>\n",
       "      <td>162</td>\n",
       "      <td>162</td>\n",
       "      <td>161</td>\n",
       "      <td>162</td>\n",
       "      <td>157</td>\n",
       "      <td>163</td>\n",
       "      <td>161</td>\n",
       "      <td>165</td>\n",
       "      <td>161</td>\n",
       "      <td>...</td>\n",
       "      <td>120</td>\n",
       "      <td>124</td>\n",
       "      <td>138</td>\n",
       "      <td>163</td>\n",
       "      <td>168</td>\n",
       "      <td>170</td>\n",
       "      <td>171</td>\n",
       "      <td>170</td>\n",
       "      <td>155</td>\n",
       "      <td>128</td>\n",
       "    </tr>\n",
       "    <tr>\n",
       "      <th>4</th>\n",
       "      <td>162</td>\n",
       "      <td>162</td>\n",
       "      <td>162</td>\n",
       "      <td>161</td>\n",
       "      <td>162</td>\n",
       "      <td>157</td>\n",
       "      <td>163</td>\n",
       "      <td>161</td>\n",
       "      <td>165</td>\n",
       "      <td>161</td>\n",
       "      <td>...</td>\n",
       "      <td>120</td>\n",
       "      <td>124</td>\n",
       "      <td>138</td>\n",
       "      <td>163</td>\n",
       "      <td>168</td>\n",
       "      <td>170</td>\n",
       "      <td>171</td>\n",
       "      <td>170</td>\n",
       "      <td>155</td>\n",
       "      <td>128</td>\n",
       "    </tr>\n",
       "    <tr>\n",
       "      <th>...</th>\n",
       "      <td>...</td>\n",
       "      <td>...</td>\n",
       "      <td>...</td>\n",
       "      <td>...</td>\n",
       "      <td>...</td>\n",
       "      <td>...</td>\n",
       "      <td>...</td>\n",
       "      <td>...</td>\n",
       "      <td>...</td>\n",
       "      <td>...</td>\n",
       "      <td>...</td>\n",
       "      <td>...</td>\n",
       "      <td>...</td>\n",
       "      <td>...</td>\n",
       "      <td>...</td>\n",
       "      <td>...</td>\n",
       "      <td>...</td>\n",
       "      <td>...</td>\n",
       "      <td>...</td>\n",
       "      <td>...</td>\n",
       "      <td>...</td>\n",
       "    </tr>\n",
       "    <tr>\n",
       "      <th>507</th>\n",
       "      <td>54</td>\n",
       "      <td>54</td>\n",
       "      <td>48</td>\n",
       "      <td>47</td>\n",
       "      <td>53</td>\n",
       "      <td>53</td>\n",
       "      <td>50</td>\n",
       "      <td>55</td>\n",
       "      <td>56</td>\n",
       "      <td>60</td>\n",
       "      <td>...</td>\n",
       "      <td>55</td>\n",
       "      <td>64</td>\n",
       "      <td>67</td>\n",
       "      <td>78</td>\n",
       "      <td>83</td>\n",
       "      <td>89</td>\n",
       "      <td>90</td>\n",
       "      <td>93</td>\n",
       "      <td>94</td>\n",
       "      <td>90</td>\n",
       "    </tr>\n",
       "    <tr>\n",
       "      <th>508</th>\n",
       "      <td>46</td>\n",
       "      <td>46</td>\n",
       "      <td>50</td>\n",
       "      <td>50</td>\n",
       "      <td>52</td>\n",
       "      <td>49</td>\n",
       "      <td>50</td>\n",
       "      <td>51</td>\n",
       "      <td>58</td>\n",
       "      <td>55</td>\n",
       "      <td>...</td>\n",
       "      <td>62</td>\n",
       "      <td>71</td>\n",
       "      <td>75</td>\n",
       "      <td>81</td>\n",
       "      <td>89</td>\n",
       "      <td>93</td>\n",
       "      <td>100</td>\n",
       "      <td>102</td>\n",
       "      <td>98</td>\n",
       "      <td>96</td>\n",
       "    </tr>\n",
       "    <tr>\n",
       "      <th>509</th>\n",
       "      <td>43</td>\n",
       "      <td>43</td>\n",
       "      <td>50</td>\n",
       "      <td>47</td>\n",
       "      <td>54</td>\n",
       "      <td>47</td>\n",
       "      <td>50</td>\n",
       "      <td>49</td>\n",
       "      <td>60</td>\n",
       "      <td>52</td>\n",
       "      <td>...</td>\n",
       "      <td>70</td>\n",
       "      <td>69</td>\n",
       "      <td>79</td>\n",
       "      <td>81</td>\n",
       "      <td>92</td>\n",
       "      <td>97</td>\n",
       "      <td>100</td>\n",
       "      <td>104</td>\n",
       "      <td>100</td>\n",
       "      <td>98</td>\n",
       "    </tr>\n",
       "    <tr>\n",
       "      <th>510</th>\n",
       "      <td>44</td>\n",
       "      <td>44</td>\n",
       "      <td>55</td>\n",
       "      <td>51</td>\n",
       "      <td>54</td>\n",
       "      <td>47</td>\n",
       "      <td>50</td>\n",
       "      <td>51</td>\n",
       "      <td>58</td>\n",
       "      <td>51</td>\n",
       "      <td>...</td>\n",
       "      <td>76</td>\n",
       "      <td>83</td>\n",
       "      <td>94</td>\n",
       "      <td>92</td>\n",
       "      <td>97</td>\n",
       "      <td>105</td>\n",
       "      <td>100</td>\n",
       "      <td>104</td>\n",
       "      <td>105</td>\n",
       "      <td>108</td>\n",
       "    </tr>\n",
       "    <tr>\n",
       "      <th>511</th>\n",
       "      <td>44</td>\n",
       "      <td>44</td>\n",
       "      <td>55</td>\n",
       "      <td>51</td>\n",
       "      <td>54</td>\n",
       "      <td>47</td>\n",
       "      <td>50</td>\n",
       "      <td>51</td>\n",
       "      <td>58</td>\n",
       "      <td>51</td>\n",
       "      <td>...</td>\n",
       "      <td>76</td>\n",
       "      <td>83</td>\n",
       "      <td>94</td>\n",
       "      <td>92</td>\n",
       "      <td>97</td>\n",
       "      <td>105</td>\n",
       "      <td>100</td>\n",
       "      <td>104</td>\n",
       "      <td>105</td>\n",
       "      <td>108</td>\n",
       "    </tr>\n",
       "  </tbody>\n",
       "</table>\n",
       "<p>512 rows × 512 columns</p>\n",
       "</div>"
      ],
      "text/plain": [
       "     0    1    2    3    4    5    6    7    8    9    ...  502  503  504  \\\n",
       "0    162  162  162  161  162  157  163  161  165  161  ...  120  124  138   \n",
       "1    162  162  162  161  162  157  163  161  165  161  ...  120  124  138   \n",
       "2    162  162  162  161  162  157  163  161  165  161  ...  120  124  138   \n",
       "3    162  162  162  161  162  157  163  161  165  161  ...  120  124  138   \n",
       "4    162  162  162  161  162  157  163  161  165  161  ...  120  124  138   \n",
       "..   ...  ...  ...  ...  ...  ...  ...  ...  ...  ...  ...  ...  ...  ...   \n",
       "507   54   54   48   47   53   53   50   55   56   60  ...   55   64   67   \n",
       "508   46   46   50   50   52   49   50   51   58   55  ...   62   71   75   \n",
       "509   43   43   50   47   54   47   50   49   60   52  ...   70   69   79   \n",
       "510   44   44   55   51   54   47   50   51   58   51  ...   76   83   94   \n",
       "511   44   44   55   51   54   47   50   51   58   51  ...   76   83   94   \n",
       "\n",
       "     505  506  507  508  509  510  511  \n",
       "0    163  168  170  171  170  155  128  \n",
       "1    163  168  170  171  170  155  128  \n",
       "2    163  168  170  171  170  155  128  \n",
       "3    163  168  170  171  170  155  128  \n",
       "4    163  168  170  171  170  155  128  \n",
       "..   ...  ...  ...  ...  ...  ...  ...  \n",
       "507   78   83   89   90   93   94   90  \n",
       "508   81   89   93  100  102   98   96  \n",
       "509   81   92   97  100  104  100   98  \n",
       "510   92   97  105  100  104  105  108  \n",
       "511   92   97  105  100  104  105  108  \n",
       "\n",
       "[512 rows x 512 columns]"
      ]
     },
     "execution_count": 14,
     "metadata": {},
     "output_type": "execute_result"
    }
   ],
   "source": [
    "#打印载入的灰度矩阵\n",
    "image_df"
   ]
  },
  {
   "cell_type": "code",
   "execution_count": 15,
   "id": "6b047c51",
   "metadata": {
    "scrolled": false
   },
   "outputs": [
    {
     "data": {
      "text/html": [
       "<div>\n",
       "<style scoped>\n",
       "    .dataframe tbody tr th:only-of-type {\n",
       "        vertical-align: middle;\n",
       "    }\n",
       "\n",
       "    .dataframe tbody tr th {\n",
       "        vertical-align: top;\n",
       "    }\n",
       "\n",
       "    .dataframe thead th {\n",
       "        text-align: right;\n",
       "    }\n",
       "</style>\n",
       "<table border=\"1\" class=\"dataframe\">\n",
       "  <thead>\n",
       "    <tr style=\"text-align: right;\">\n",
       "      <th></th>\n",
       "      <th>0</th>\n",
       "      <th>1</th>\n",
       "    </tr>\n",
       "  </thead>\n",
       "  <tbody>\n",
       "    <tr>\n",
       "      <th>0</th>\n",
       "      <td>162</td>\n",
       "      <td>162</td>\n",
       "    </tr>\n",
       "    <tr>\n",
       "      <th>1</th>\n",
       "      <td>162</td>\n",
       "      <td>162</td>\n",
       "    </tr>\n",
       "  </tbody>\n",
       "</table>\n",
       "</div>"
      ],
      "text/plain": [
       "     0    1\n",
       "0  162  162\n",
       "1  162  162"
      ]
     },
     "execution_count": 15,
     "metadata": {},
     "output_type": "execute_result"
    }
   ],
   "source": [
    "#图像切割成若干1*2的图像块\n",
    "# n1:图像块的高\n",
    "# n2:图像块的宽\n",
    "n1=2\n",
    "n2=2\n",
    "sub_matrices=split_matrix(image_df,n1,n2)\n",
    "#打印切割的图像块以检查分割情况\n",
    "sub_matrices[1]"
   ]
  },
  {
   "cell_type": "code",
   "execution_count": 16,
   "id": "9f64230b",
   "metadata": {},
   "outputs": [],
   "source": [
    "#计算每个图像块的e_max\n",
    "sub_blocks={}#这个与sub_matrices的区别在于它记录了e_max的信息\n",
    "for (i,j) in zip(sub_matrices.keys(),sub_matrices.values()):\n",
    "    e_max,k=calculate_e_max(j)\n",
    "    sub_blocks[(i,e_max,k)]=j"
   ]
  },
  {
   "cell_type": "code",
   "execution_count": 17,
   "id": "6fa38a41",
   "metadata": {},
   "outputs": [
    {
     "name": "stdout",
     "output_type": "stream",
     "text": [
      "最大嵌入信息量为：23822 bit\n"
     ]
    }
   ],
   "source": [
    "#计算这张图片的最大嵌入信息量\n",
    "max_count=0\n",
    "for i in sub_blocks.keys():\n",
    "    if  i[1]==1:\n",
    "        max_count=max_count+i[2]\n",
    "print(\"最大嵌入信息量为：\"+str(max_count)+\" bit\")"
   ]
  },
  {
   "cell_type": "code",
   "execution_count": 18,
   "id": "b3d0afff",
   "metadata": {},
   "outputs": [
    {
     "name": "stdout",
     "output_type": "stream",
     "text": [
      "嵌入信息大小为：280 bits\n"
     ]
    }
   ],
   "source": [
    "##开始信息嵌入\n",
    "##准备加密信息\n",
    "secret_text=\"Wish you a good day,my best friend!\"\n",
    "_ ,data_1=text_to_binary(secret_text) #将加密信息转化为二进制list\n",
    "data_2=[0] * ( max_count-len(data_1) )  #因为一般情况下最大可嵌入数据大于待嵌入数据，因此还要设定一下填充序列\n",
    "data=data_1+data_2"
   ]
  },
  {
   "cell_type": "code",
   "execution_count": 19,
   "id": "9e7f5b6a",
   "metadata": {},
   "outputs": [],
   "source": [
    "cnt=0\n",
    "for i,j in zip(sub_blocks.keys(),sub_blocks.values()):\n",
    "    #把每一个block的灰度矩阵转化成类似于这样的序列：[(2, 199), (4, 196), (1, 65), (3, 54)]\n",
    "    _,sort_list=matrix_to_dict(j) \n",
    "    if i[1]==1: # i[0]是图像块的序号, i[1]是e_max, i[2]是k值\n",
    "        #首先将前k个相等的像素点取出\n",
    "        lists=[sort_list[p] for p in range(0,i[2])]\n",
    "        #将前面k个灰度值相等的像素点单独取出,并按照其序号角标从小到大排序，以确定嵌入数据的顺序\n",
    "        sorted_data=sorted(lists,key=lambda x :x[0])\n",
    "        #检查嵌入序列的类型已选择不同的嵌入方式\n",
    "        check=check_list_type(data[cnt:cnt+len(sorted_data)])\n",
    "        #检查嵌入信息，如果嵌入这个block的信息是全0那么全部像素点加1，如果block的信息是全1，那么全部像素点加2\n",
    "        if check==0:\n",
    "            for r in sorted_data :\n",
    "                row,col=num_to_loc(r[0],n2)\n",
    "                sub_blocks[i].iloc[row,col]=r[1]+1\n",
    "                cnt+=1\n",
    "        if check==1:\n",
    "            for r in sorted_data :\n",
    "                row,col=num_to_loc(r[0],n2)\n",
    "                sub_blocks[i].iloc[row,col]=r[1]+2\n",
    "                cnt+=1\n",
    "        if check==10:\n",
    "            for r in sorted_data :\n",
    "                row,col=num_to_loc(r[0],n2)\n",
    "                sub_blocks[i].iloc[row,col]=r[1]+data[cnt]\n",
    "                cnt+=1\n",
    "                \n",
    "    elif i[1] >1:\n",
    "        #对于e_max原本就大于1的block,将其 e_max=e_max+2\n",
    "        for m in range(0,i[2]):\n",
    "            row,col=num_to_loc(sort_list[m][0],n2)\n",
    "            sub_blocks[i].iloc[row,col]=sort_list[m][1]+2\n"
   ]
  },
  {
   "cell_type": "code",
   "execution_count": 20,
   "id": "84b00c4f",
   "metadata": {},
   "outputs": [],
   "source": [
    "sub_blocks_final={}\n",
    "for i,j in zip(sub_blocks.keys(),sub_blocks.values()):\n",
    "    sub_blocks_final[i[0]]=j   \n",
    "    \n",
    "##将修改后的图像块拼成一个大的\n",
    "modified_matrix=combine_dataframes(sub_blocks_final,256) #512*512的图像被2*2的block分割，一行可以分出256个block\n",
    "#将加密图像还原\n",
    "matrix_to_image(modified_matrix,\"secret_image.bmp\")"
   ]
  },
  {
   "cell_type": "markdown",
   "id": "100760af",
   "metadata": {},
   "source": [
    "### 解密部分"
   ]
  },
  {
   "cell_type": "code",
   "execution_count": 21,
   "id": "b97d5ef9",
   "metadata": {},
   "outputs": [],
   "source": [
    "image_np,image_df=grayscale_to_matrix(\"secret_image.bmp\")"
   ]
  },
  {
   "cell_type": "code",
   "execution_count": 22,
   "id": "776e9ec1",
   "metadata": {},
   "outputs": [
    {
     "data": {
      "text/html": [
       "<div>\n",
       "<style scoped>\n",
       "    .dataframe tbody tr th:only-of-type {\n",
       "        vertical-align: middle;\n",
       "    }\n",
       "\n",
       "    .dataframe tbody tr th {\n",
       "        vertical-align: top;\n",
       "    }\n",
       "\n",
       "    .dataframe thead th {\n",
       "        text-align: right;\n",
       "    }\n",
       "</style>\n",
       "<table border=\"1\" class=\"dataframe\">\n",
       "  <thead>\n",
       "    <tr style=\"text-align: right;\">\n",
       "      <th></th>\n",
       "      <th>0</th>\n",
       "      <th>1</th>\n",
       "    </tr>\n",
       "  </thead>\n",
       "  <tbody>\n",
       "    <tr>\n",
       "      <th>0</th>\n",
       "      <td>162</td>\n",
       "      <td>162</td>\n",
       "    </tr>\n",
       "    <tr>\n",
       "      <th>1</th>\n",
       "      <td>162</td>\n",
       "      <td>162</td>\n",
       "    </tr>\n",
       "  </tbody>\n",
       "</table>\n",
       "</div>"
      ],
      "text/plain": [
       "     0    1\n",
       "0  162  162\n",
       "1  162  162"
      ]
     },
     "execution_count": 22,
     "metadata": {},
     "output_type": "execute_result"
    }
   ],
   "source": [
    "#图像切割成若干1*2的图像块\n",
    "# n1:图像块的高\n",
    "# n2:图像块的宽\n",
    "n1=2\n",
    "n2=2\n",
    "sub_matrices=split_matrix(image_df,n1,n2)\n",
    "#打印切割的图像块以检查分割情况\n",
    "sub_matrices[1]"
   ]
  },
  {
   "cell_type": "code",
   "execution_count": 23,
   "id": "44023ec1",
   "metadata": {},
   "outputs": [],
   "source": [
    "#计算每个图像块的e_max，这里是修改后的e_max\n",
    "sub_blocks={}#这个与sub_matrices的区别在于它记录了e_max的信息\n",
    "for (i,j) in zip(sub_matrices.keys(),sub_matrices.values()):\n",
    "    e_max,k=calculate_e_max(j)\n",
    "    sub_blocks[(i,e_max,k)]=j"
   ]
  },
  {
   "cell_type": "code",
   "execution_count": 24,
   "id": "1e649b35",
   "metadata": {},
   "outputs": [],
   "source": [
    "#开始信息提取，并恢复原来的图像\n",
    "massage_binary=\"\"\n",
    "for i,j in zip(sub_blocks.keys(),sub_blocks.values()):\n",
    "    # i[0]是图像块的序号, i[1]是e_max, i[2]是k值\n",
    "    _,sort_list=matrix_to_dict(j) #把灰度矩阵转化成类似于这样的序列[(2, 199), (4, 196), (1, 65), (3, 54)]\n",
    "    if i[1]>3: \n",
    "        for m in range(0,i[2]):\n",
    "            row,col=num_to_loc(sort_list[m][0],n2)\n",
    "            sub_blocks[i].iloc[row,col]=sort_list[m][1]-2\n",
    "\n",
    "  \n",
    "    if i[1]==2:\n",
    "        for m in range(0,i[2]):\n",
    "            massage_binary=massage_binary+\"0\"\n",
    "            row,col=num_to_loc(sort_list[m][0],n2)\n",
    "            sub_blocks[i].iloc[row,col]=sort_list[m][1]-1\n",
    "    if i[1]==3:\n",
    "        for m in range(0,i[2]):\n",
    "            massage_binary=massage_binary+\"1\"\n",
    "            row,col=num_to_loc(sort_list[m][0],n2)\n",
    "            sub_blocks[i].iloc[row,col]=sort_list[m][1]-2\n",
    "        \n",
    "    \n",
    "    \n",
    "    if i[1]==1:\n",
    "        #先取出sort_list中前面k1个元素，这些元素嵌入了1\n",
    "        #将sort_list前k1个元素删掉，再取出前k2个元素，这些元素嵌入了0\n",
    "        #原始的k=k1+k2\n",
    "        #计算k1_list\n",
    "        list_k1=[]\n",
    "        #k1已经在最开始计算出来了，就是i[2]\n",
    "        for m in range(0,i[2]):\n",
    "            list_k1.append(sort_list[m])\n",
    "        #删掉前面的k1个元素\n",
    "        sort_list=sort_list[i[2]:]\n",
    "        \n",
    "        #计算k2_list\n",
    "        list_k2=[]\n",
    "        k2=0\n",
    "        temp=sort_list[0][1] #存储排在最前面的像素点的灰度值\n",
    "        for g in sort_list:\n",
    "            if g[1]==temp:\n",
    "                k2=k2+1\n",
    "            else :\n",
    "                break     \n",
    "        for m in range(0,k2):\n",
    "            list_k2.append(sort_list[m])\n",
    "        \n",
    "        #信息提取\n",
    "        \n",
    "        list_final=list_k1 + list_k2\n",
    "        big=0\n",
    "        small=256\n",
    "        for t in list_final:\n",
    "            if t[1]>big:\n",
    "                big=t[1]\n",
    "            if t[1]<small:\n",
    "                small=t[1]\n",
    "                \n",
    "        #sorted_data是这个样式的序列[(2, 199), (4, 196), (1, 65), (3, 54)]，将其按照内部元组的第一个元素的值排序\n",
    "        sorted_data=sorted(list_final,key=lambda x :x[0])\n",
    "\n",
    "        for t in sorted_data:\n",
    "            if t[1]==big:\n",
    "                massage_binary=massage_binary+\"1\"\n",
    "            if t[1]==small:\n",
    "                massage_binary=massage_binary+\"0\"\n",
    "        #图像还原(因为list_k2中的像素点没有做改动，它嵌入的信息是0)\n",
    "        for t in list_k1:\n",
    "            row,col=num_to_loc(t[0],n2)\n",
    "            sub_blocks[i].iloc[row,col]=t[1]-1"
   ]
  },
  {
   "cell_type": "code",
   "execution_count": 25,
   "id": "60f3d360",
   "metadata": {},
   "outputs": [],
   "source": [
    "sub_blocks_final={}\n",
    "for i,j in zip(sub_blocks.keys(),sub_blocks.values()):\n",
    "    sub_blocks_final[i[0]]=j    "
   ]
  },
  {
   "cell_type": "code",
   "execution_count": 26,
   "id": "1dec9711",
   "metadata": {
    "scrolled": true
   },
   "outputs": [
    {
     "name": "stdout",
     "output_type": "stream",
     "text": [
      "Wish you a good day,my best friend!\u0000\u0000\u0000\u0000\u0000\u0000\u0000\u0000\u0000\u0000\u0000\u0000\u0000\u0000\u0000\u0000\u0000\u0000\u0000\u0000\u0000\u0000\u0000\u0000\u0000\u0000\u0000\u0000\u0000\u0000\u0000\u0000\u0000\u0000\u0000\u0000\u0000\u0000\u0000\u0000\u0000\u0000\u0000\u0000\u0000\u0000\u0000\u0000\u0000\u0000\u0000\u0000\u0000\u0000\u0000\u0000\u0000\u0000\u0000\u0000\u0000\u0000\u0000\u0000\u0000\u0000\u0000\u0000\u0000\u0000\u0000\u0000\u0000\u0000\u0000\u0000\u0000\u0000\u0000\u0000\u0000\u0000\u0000\u0000\u0000\u0000\u0000\u0000\u0000\u0000\u0000\u0000\u0000\u0000\u0000\u0000\u0000\u0000\u0000\u0000\u0000\u0000\u0000\u0000\u0000\u0000\u0000\u0000\u0000\u0000\u0000\u0000\u0000\u0000\u0000\u0000\u0000\u0000\u0000\u0000\u0000\u0000\u0000\u0000\u0000\u0000\u0000\u0000\u0000\u0000\u0000\u0000\u0000\u0000\u0000\u0000\u0000\u0000\u0000\u0000\u0000\u0000\u0000\u0000\u0000\u0000\u0000\u0000\u0000\u0000\u0000\u0000\u0000\u0000\u0000\u0000\u0000\u0000\u0000\u0000\u0000\u0000\u0000\u0000\u0000\u0000\u0000\u0000\u0000\u0000\u0000\u0000\u0000\u0000\u0000\u0000\u0000\u0000\u0000\u0000\u0000\u0000\u0000\u0000\u0000\u0000\u0000\u0000\u0000\u0000\u0000\u0000\u0000\u0000\u0000\u0000\u0000\u0000\u0000\u0000\u0000\u0000\u0000\u0000\u0000\u0000\u0000\u0000\u0000\u0000\u0000\u0000\u0000\u0000\u0000\u0000\u0000\u0000\u0000\u0000\u0000\u0000\u0000\u0000\u0000\u0000\u0000\u0000\u0000\u0000\u0000\u0000\u0000\u0000\u0000\u0000\u0000\u0000\u0000\u0000\u0000\u0000\u0000\u0000\u0000\u0000\u0000\u0000\u0000\u0000\u0000\u0000\u0000\u0000\u0000\u0000\u0000\u0000\u0000\u0000\u0000\u0000\u0000\u0000\u0000\u0000\u0000\u0000\u0000\u0000\u0000\u0000\u0000\u0000\u0000\u0000\u0000\u0000\u0000\u0000\u0000\u0000\u0000\u0000\u0000\u0000\u0000\u0000\u0000\u0000\u0000\u0000\u0000\u0000\u0000\u0000\u0000\u0000\u0000\u0000\u0000\u0000\u0000\u0000\u0000\u0000\u0000\u0000\u0000\u0000\u0000\u0000\u0000\u0000\u0000\u0000\u0000\u0000\u0000\u0000\u0000\u0000\u0000\u0000\u0000\u0000\u0000\u0000\u0000\u0000\u0000\u0000\u0000\u0000\u0000\u0000\u0000\u0000\u0000\u0000\u0000\u0000\u0000\u0000\u0000\u0000\u0000\u0000\u0000\u0000\u0000\u0000\u0000\u0000\u0000\u0000\u0000\u0000\u0000\u0000\u0000\u0000\u0000\u0000\u0000\u0000\u0000\u0000\u0000\u0000\u0000\u0000\u0000\u0000\u0000\u0000\u0000\u0000\u0000\u0000\u0000\u0000\u0000\u0000\u0000\u0000\u0000\u0000\u0000\u0000\u0000\u0000\u0000\u0000\u0000\u0000\u0000\u0000\u0000\u0000\u0000\u0000\u0000\u0000\u0000\u0000\u0000\u0000\u0000\u0000\u0000\u0000\u0000\u0000\u0000\u0000\u0000\u0000\u0000\u0000\u0000\u0000\u0000\u0000\u0000\u0000\u0000\u0000\u0000\u0000\u0000\u0000\u0000\u0000\u0000\u0000\u0000\u0000\u0000\u0000\u0000\u0000\u0000\u0000\u0000\u0000\u0000\u0000\u0000\u0000\u0000\u0000\u0000\u0000\u0000\u0000\u0000\u0000\u0000\u0000\u0000\u0000\u0000\u0000\u0000\u0000\u0000\u0000\u0000\u0000\u0000\u0000\u0000\u0000\u0000\u0000\u0000\u0000\u0000\u0000\u0000\u0000\u0000\u0000\u0000\u0000\u0000\u0000\u0000\u0000\u0000\u0000\u0000\u0000\u0000\u0000\u0000\u0000\u0000\u0000\u0000\u0000\u0000\u0000\u0000\u0000\u0000\u0000\u0000\u0000\u0000\u0000\u0000\u0000\u0000\u0000\u0000\u0000\u0000\u0000\u0000\u0000\u0000\u0000\u0000\u0000\u0000\u0000\u0000\u0000\u0000\u0000\u0000\u0000\u0000\u0000\u0000\u0000\u0000\u0000\u0000\u0000\u0000\u0000\u0000\u0000\u0000\u0000\u0000\u0000\u0000\u0000\u0000\u0000\u0000\u0000\u0000\u0000\u0000\u0000\u0000\u0000\u0000\u0000\u0000\u0000\u0000\u0000\u0000\u0000\u0000\u0000\u0000\u0000\u0000\u0000\u0000\u0000\u0000\u0000\u0000\u0000\u0000\u0000\u0000\u0000\u0000\u0000\u0000\u0000\u0000\u0000\u0000\u0000\u0000\u0000\u0000\u0000\u0000\u0000\u0000\u0000\u0000\u0000\u0000\u0000\u0000\u0000\u0000\u0000\u0000\u0000\u0000\u0000\u0000\u0000\u0000\u0000\u0000\u0000\u0000\u0000\u0000\u0000\u0000\u0000\u0000\u0000\u0000\u0000\u0000\u0000\u0000\u0000\u0000\u0000\u0000\u0000\u0000\u0000\u0000\u0000\u0000\u0000\u0000\u0000\u0000\u0000\u0000\u0000\u0000\u0000\u0000\u0000\u0000\u0000\u0000\u0000\u0000\u0000\u0000\u0000\u0000\u0000\u0000\u0000\u0000\u0000\u0000\u0000\u0000\u0000\u0000\u0000\u0000\u0000\u0000\u0000\u0000\u0000\u0000\u0000\u0000\u0000\u0000\u0000\u0000\u0000\u0000\u0000\u0000\u0000\u0000\u0000\u0000\u0000\u0000\u0000\u0000\u0000\u0000\u0000\u0000\u0000\u0000\u0000\u0000\u0000\u0000\u0000\u0000\u0000\u0000\u0000\u0000\u0000\u0000\u0000\u0000\u0000\u0000\u0000\u0000\u0000\u0000\u0000\u0000\u0000\u0000\u0000\u0000\u0000\u0000\u0000\u0000\u0000\u0000\u0000\u0000\u0000\u0000\u0000\u0000\u0000\u0000\u0000\u0000\u0000\u0000\u0000\u0000\u0000\u0000\u0000\u0000\u0000\u0000\u0000\u0000\u0000\u0000\u0000\u0000\u0000\u0000\u0000\u0000\u0000\u0000\u0000\u0000\u0000\u0000\u0000\u0000\u0000\u0000\u0000\u0000\u0000\u0000\u0000\u0000\u0000\u0000\u0000\u0000\u0000\u0000\u0000\u0000\u0000\u0000\u0000\u0000\u0000\u0000\u0000\u0000\u0000\u0000\u0000\u0000\u0000\u0000\u0000\u0000\u0000\u0000\u0000\u0000\u0000\u0000\u0000\u0000\u0000\u0000\u0000\u0000\u0000\u0000\u0000\u0000\u0000\u0000\u0000\u0000\u0000\u0000\u0000\u0000\u0000\u0000\u0000\u0000\u0000\u0000\u0000\u0000\u0000\u0000\u0000\u0000\u0000\u0000\u0000\u0000\u0000\u0000\u0000\u0000\u0000\u0000\u0000\u0000\u0000\u0000\u0000\u0000\u0000\u0000\u0000\u0000\u0000\u0000\u0000\u0000\u0000\u0000\u0000\u0000\u0000\u0000\u0000\u0000\u0000\u0000\u0000\u0000\u0000\u0000\u0000\u0000\u0000\u0000\u0000\u0000\u0000\u0000\u0000\u0000\u0000\u0000\u0000\u0000\u0000\u0000\u0000\u0000\u0000\u0000\u0000\u0000\u0000\u0000\u0000\u0000\u0000\u0000\u0000\u0000\u0000\u0000\u0000\u0000\u0000\u0000\u0000\u0000\u0000\u0000\u0000\u0000\u0000\u0000\u0000\u0000\u0000\u0000\u0000\u0000\u0000\u0000\u0000\u0000\u0000\u0000\u0000\u0000\u0000\u0000\u0000\u0000\u0000\u0000\u0000\u0000\u0000\u0000\u0000\u0000\u0000\u0000\u0000\u0000\u0000\u0000\u0000\u0000\u0000\u0000\u0000\u0000\u0000\u0000\u0000\u0000\u0000\u0000\u0000\u0000\u0000\u0000\u0000\u0000\u0000\u0000\u0000\u0000\u0000\u0000\u0000\u0000\u0000\u0000\u0000\u0000\u0000\u0000\u0000\u0000\u0000\u0000\u0000\u0000\u0000\u0000\u0000\u0000\u0000\u0000\u0000\u0000\u0000\u0000\u0000\u0000\u0000\u0000\u0000\u0000\u0000\u0000\u0000\u0000\u0000\u0000\u0000\u0000\u0000\u0000\u0000\u0000\u0000\u0000\u0000\u0000\u0000\u0000\u0000\u0000\u0000\u0000\u0000\u0000\u0000\u0000\u0000\u0000\u0000\u0000\u0000\u0000\u0000\u0000\u0000\u0000\u0000\u0000\u0000\u0000\u0000\u0000\u0000\u0000\u0000\u0000\u0000\u0000\u0000\u0000\u0000\u0000\u0000\u0000\u0000\u0000\u0000\u0000\u0000\u0000\u0000\u0000\u0000\u0000\u0000\u0000\u0000\u0000\u0000\u0000\u0000\u0000\u0000\u0000\u0000\u0000\u0000\u0000\u0000\u0000\u0000\u0000\u0000\u0000\u0000\u0000\u0000\u0000\u0000\u0000\u0000\u0000\u0000\u0000\u0000\u0000\u0000\u0000\u0000\u0000\u0000\u0000\u0000\u0000\u0000\u0000\u0000\u0000\u0000\u0000\u0000\u0000\u0000\u0000\u0000\u0000\u0000\u0000\u0000\u0000\u0000\u0000\u0000\u0000\u0000\u0000\u0000\u0000\u0000\u0000\u0000\u0000\u0000\u0000\u0000\u0000\u0000\u0000\u0000\u0000\u0000\u0000\u0000\u0000\u0000\u0000\u0000\u0000\u0000\u0000\u0000\u0000\u0000\u0000\u0000\u0000\u0000\u0000\u0000\u0000\u0000\u0000\u0000\u0000\u0000\u0000\u0000\u0000\u0000\u0000\u0000\u0000\u0000\u0000\u0000\u0000\u0000\u0000\u0000\u0000\u0000\u0000\u0000\u0000\u0000\u0000\u0000\u0000\u0000\u0000\u0000\u0000\u0000\u0000\u0000\u0000\u0000\u0000\u0000\u0000\u0000\u0000\u0000\u0000\u0000\u0000\u0000\u0000\u0000\u0000\u0000\u0000\u0000\u0000\u0000\u0000\u0000\u0000\u0000\u0000\u0000\u0000\u0000\u0000\u0000\u0000\u0000\u0000\u0000\u0000\u0000\u0000\u0000\u0000\u0000\u0000\u0000\u0000\u0000\u0000\u0000\u0000\u0000\u0000\u0000\u0000\u0000\u0000\u0000\u0000\u0000\u0000\u0000\u0000\u0000\u0000\u0000\u0000\u0000\u0000\u0000\u0000\u0000\u0000\u0000\u0000\u0000\u0000\u0000\u0000\u0000\u0000\u0000\u0000\u0000\u0000\u0000\u0000\u0000\u0000\u0000\u0000\u0000\u0000\u0000\u0000\u0000\u0000\u0000\u0000\u0000\u0000\u0000\u0000\u0000\u0000\u0000\u0000\u0000\u0000\u0000\u0000\u0000\u0000\u0000\u0000\u0000\u0000\u0000\u0000\u0000\u0000\u0000\u0000\u0000\u0000\u0000\u0000\u0000\u0000\u0000\u0000\u0000\u0000\u0000\u0000\u0000\u0000\u0000\u0000\u0000\u0000\u0000\u0000\u0000\u0000\u0000\u0000\u0000\u0000\u0000\u0000\u0000\u0000\u0000\u0000\u0000\u0000\u0000\u0000\u0000\u0000\u0000\u0000\u0000\u0000\u0000\u0000\u0000\u0000\u0000\u0000\u0000\u0000\u0000\u0000\u0000\u0000\u0000\u0000\u0000\u0000\u0000\u0000\u0000\u0000\u0000\u0000\u0000\u0000\u0000\u0000\u0000\u0000\u0000\u0000\u0000\u0000\u0000\u0000\u0000\u0000\u0000\u0000\u0000\u0000\u0000\u0000\u0000\u0000\u0000\u0000\u0000\u0000\u0000\u0000\u0000\u0000\u0000\u0000\u0000\u0000\u0000\u0000\u0000\u0000\u0000\u0000\u0000\u0000\u0000\u0000\u0000\u0000\u0000\u0000\u0000\u0000\u0000\u0000\u0000\u0000\u0000\u0000\u0000\u0000\u0000\u0000\u0000\u0000\u0000\u0000\u0000\u0000\u0000\u0000\u0000\u0000\u0000\u0000\u0000\u0000\u0000\u0000\u0000\u0000\u0000\u0000\u0000\u0000\u0000\u0000\u0000\u0000\u0000\u0000\u0000\u0000\u0000\u0000\u0000\u0000\u0000\u0000\u0000\u0000\u0000\u0000\u0000\u0000\u0000\u0000\u0000\u0000\u0000\u0000\u0000\u0000\u0000\u0000\u0000\u0000\u0000\u0000\u0000\u0000\u0000\u0000\u0000\u0000\u0000\u0000\u0000\u0000\u0000\u0000\u0000\u0000\u0000\u0000\u0000\u0000\u0000\u0000\u0000\u0000\u0000\u0000\u0000\u0000\u0000\u0000\u0000\u0000\u0000\u0000\u0000\u0000\u0000\u0000\u0000\u0000\u0000\u0000\u0000\u0000\u0000\u0000\u0000\u0000\u0000\u0000\u0000\u0000\u0000\u0000\u0000\u0000\u0000\u0000\u0000\u0000\u0000\u0000\u0000\u0000\u0000\u0000\u0000\u0000\u0000\u0000\u0000\u0000\u0000\u0000\u0000\u0000\u0000\u0000\u0000\u0000\u0000\u0000\u0000\u0000\u0000\u0000\u0000\u0000\u0000\u0000\u0000\u0000\u0000\u0000\u0000\u0000\u0000\u0000\u0000\u0000\u0000\u0000\u0000\u0000\u0000\u0000\u0000\u0000\u0000\u0000\u0000\u0000\u0000\u0000\u0000\u0000\u0000\u0000\u0000\u0000\u0000\u0000\u0000\u0000\u0000\u0000\u0000\u0000\u0000\u0000\u0000\u0000\u0000\u0000\u0000\u0000\u0000\u0000\u0000\u0000\u0000\u0000\u0000\u0000\u0000\u0000\u0000\u0000\u0000\u0000\u0000\u0000\u0000\u0000\u0000\u0000\u0000\u0000\u0000\u0000\u0000\u0000\u0000\u0000\u0000\u0000\u0000\u0000\u0000\u0000\u0000\u0000\u0000\u0000\u0000\u0000\u0000\u0000\u0000\u0000\u0000\u0000\u0000\u0000\u0000\u0000\u0000\u0000\u0000\u0000\u0000\u0000\u0000\u0000\u0000\u0000\u0000\u0000\u0000\u0000\u0000\u0000\u0000\u0000\u0000\u0000\u0000\u0000\u0000\u0000\u0000\u0000\u0000\u0000\u0000\u0000\u0000\u0000\u0000\u0000\u0000\u0000\u0000\u0000\u0000\u0000\u0000\u0000\u0000\u0000\u0000\u0000\u0000\u0000\u0000\u0000\u0000\u0000\u0000\u0000\u0000\u0000\u0000\u0000\u0000\u0000\u0000\u0000\u0000\u0000\u0000\u0000\u0000\u0000\u0000\u0000\u0000\u0000\u0000\u0000\u0000\u0000\u0000\u0000\u0000\u0000\u0000\u0000\u0000\u0000\u0000\u0000\u0000\u0000\u0000\u0000\u0000\u0000\u0000\u0000\u0000\u0000\u0000\u0000\u0000\u0000\u0000\u0000\u0000\u0000\u0000\u0000\u0000\u0000\u0000\u0000\u0000\u0000\u0000\u0000\u0000\u0000\u0000\u0000\u0000\u0000\u0000\u0000\u0000\u0000\u0000\u0000\u0000\u0000\u0000\u0000\u0000\u0000\u0000\u0000\u0000\u0000\u0000\u0000\u0000\u0000\u0000\u0000\u0000\u0000\u0000\u0000\u0000\u0000\u0000\u0000\u0000\u0000\u0000\u0000\u0000\u0000\u0000\u0000\u0000\u0000\u0000\u0000\u0000\u0000\u0000\u0000\u0000\u0000\u0000\u0000\u0000\u0000\u0000\u0000\u0000\u0000\u0000\u0000\u0000\u0000\u0000\u0000\u0000\u0000\u0000\u0000\u0000\u0000\u0000\u0000\u0000\u0000\u0000\u0000\u0000\u0000\u0000\u0000\u0000\u0000\u0000\u0000\u0000\u0000\u0000\u0000\u0000\u0000\u0000\u0000\u0000\u0000\u0000\u0000\u0000\u0000\u0000\u0000\u0000\u0000\u0000\u0000\u0000\u0000\u0000\u0000\u0000\u0000\u0000\u0000\u0000\u0000\u0000\u0000\u0000\u0000\u0000\u0000\u0000\u0000\u0000\u0000\u0000\u0000\u0000\u0000\u0000\u0000\u0000\u0000\u0000\u0000\u0000\u0000\u0000\u0000\u0000\u0000\u0000\u0000\u0000\u0000\u0000\u0000\u0000\u0000\u0000\u0000\u0000\u0000\u0000\u0000\u0000\u0000\u0000\u0000\u0000\u0000\u0000\u0000\u0000\u0000\u0000\u0000\u0000\u0000\u0000\u0000\u0000\u0000\u0000\u0000\u0000\u0000\u0000\u0000\u0000\u0000\u0000\u0000\u0000\u0000\u0000\u0000\u0000\u0000\u0000\u0000\u0000\u0000\u0000\u0000\u0000\u0000\u0000\u0000\u0000\u0000\u0000\u0000\u0000\u0000\u0000\u0000\u0000\u0000\u0000\u0000\u0000\u0000\u0000\u0000\u0000\u0000\u0000\u0000\u0000\u0000\u0000\u0000\u0000\u0000\u0000\u0000\u0000\u0000\u0000\u0000\u0000\u0000\u0000\u0000\u0000\u0000\u0000\u0000\u0000\u0000\u0000\u0000\u0000\u0000\u0000\u0000\u0000\u0000\u0000\u0000\u0000\u0000\u0000\u0000\u0000\u0000\u0000\u0000\u0000\u0000\u0000\u0000\u0000\u0000\u0000\u0000\u0000\u0000\u0000\u0000\u0000\u0000\u0000\u0000\u0000\u0000\u0000\u0000\u0000\u0000\u0000\u0000\u0000\u0000\u0000\u0000\u0000\u0000\u0000\u0000\u0000\u0000\u0000\u0000\u0000\u0000\u0000\u0000\u0000\u0000\u0000\u0000\u0000\u0000\u0000\u0000\u0000\u0000\u0000\u0000\u0000\u0000\u0000\u0000\u0000\u0000\u0000\u0000\u0000\u0000\u0000\u0000\u0000\u0000\u0000\u0000\u0000\u0000\u0000\u0000\u0000\u0000\u0000\u0000\u0000\u0000\u0000\u0000\u0000\u0000\u0000\u0000\u0000\u0000\u0000\u0000\u0000\u0000\u0000\u0000\u0000\u0000\u0000\u0000\u0000\u0000\u0000\u0000\u0000\u0000\u0000\u0000\u0000\u0000\u0000\u0000\u0000\u0000\u0000\u0000\u0000\u0000\u0000\u0000\u0000\u0000\u0000\u0000\u0000\u0000\u0000\u0000\u0000\u0000\u0000\u0000\u0000\u0000\u0000\u0000\u0000\u0000\u0000\u0000\u0000\u0000\u0000\u0000\u0000\u0000\u0000\u0000\u0000\u0000\u0000\u0000\u0000\u0000\u0000\u0000\u0000\u0000\u0000\u0000\u0000\u0000\u0000\u0000\u0000\u0000\u0000\u0000\u0000\u0000\u0000\u0000\u0000\u0000\u0000\u0000\u0000\u0000\u0000\u0000\u0000\u0000\u0000\u0000\u0000\u0000\u0000\u0000\u0000\u0000\u0000\u0000\u0000\u0000\u0000\u0000\u0000\u0000\u0000\u0000\u0000\u0000\u0000\u0000\u0000\u0000\u0000\u0000\u0000\u0000\u0000\u0000\u0000\u0000\u0000\u0000\u0000\u0000\u0000\u0000\u0000\u0000\u0000\u0000\u0000\u0000\u0000\u0000\u0000\u0000\u0000\u0000\u0000\u0000\u0000\u0000\u0000\u0000\u0000\u0000\u0000\u0000\u0000\u0000\u0000\u0000\u0000\u0000\u0000\u0000\u0000\u0000\u0000\u0000\u0000\u0000\u0000\u0000\u0000\u0000\u0000\u0000\u0000\u0000\u0000\u0000\u0000\u0000\u0000\u0000\u0000\u0000\u0000\u0000\u0000\u0000\u0000\u0000\u0000\u0000\u0000\u0000\u0000\u0000\u0000\u0000\u0000\u0000\u0000\u0000\u0000\u0000\u0000\u0000\u0000\u0000\u0000\u0000\u0000\u0000\u0000\u0000\u0000\u0000\u0000\u0000\u0000\u0000\u0000\u0000\u0000\u0000\u0000\u0000\u0000\u0000\u0000\u0000\u0000\u0000\u0000\u0000\u0000\u0000\u0000\u0000\u0000\u0000\u0000\u0000\u0000\u0000\u0000\u0000\u0000\u0000\u0000\u0000\u0000\u0000\u0000\u0000\u0000\u0000\u0000\u0000\u0000\u0000\u0000\u0000\u0000\u0000\u0000\u0000\u0000\u0000\u0000\u0000\u0000\u0000\u0000\u0000\u0000\u0000\u0000\u0000\u0000\u0000\u0000\u0000\u0000\u0000\u0000\u0000\u0000\u0000\u0000\u0000\u0000\u0000\u0000\u0000\u0000\u0000\u0000\u0000\u0000\u0000\u0000\u0000\u0000\u0000\u0000\u0000\u0000\u0000\u0000\u0000\u0000\u0000\u0000\u0000\u0000\u0000\u0000\u0000\u0000\u0000\u0000\u0000\u0000\u0000\u0000\u0000\u0000\u0000\u0000\u0000\u0000\u0000\u0000\u0000\u0000\u0000\u0000\u0000\u0000\u0000\u0000\u0000\u0000\u0000\u0000\u0000\u0000\u0000\u0000\u0000\u0000\u0000\u0000\u0000\u0000\u0000\u0000\u0000\u0000\u0000\u0000\u0000\u0000\u0000\u0000\u0000\u0000\u0000\u0000\u0000\u0000\u0000\u0000\u0000\u0000\u0000\u0000\u0000\u0000\u0000\u0000\u0000\u0000\u0000\u0000\u0000\u0000\u0000\u0000\u0000\u0000\u0000\u0000\u0000\u0000\u0000\u0000\u0000\u0000\u0000\u0000\u0000\u0000\u0000\u0000\u0000\u0000\u0000\u0000\u0000\u0000\u0000\u0000\u0000\u0000\u0000\u0000\u0000\u0000\u0000\u0000\u0000\u0000\u0000\u0000\u0000\u0000\u0000\u0000\u0000\u0000\u0000\u0000\u0000\u0000\u0000\u0000\u0000\u0000\u0000\u0000\u0000\u0000\u0000\u0000\u0000\u0000\u0000\u0000\u0000\u0000\u0000\u0000\u0000\u0000\u0000\u0000\u0000\u0000\u0000\u0000\u0000\u0000\u0000\u0000\u0000\u0000\u0000\u0000\u0000\u0000\u0000\u0000\u0000\u0000\u0000\u0000\u0000\u0000\u0000\u0000\u0000\u0000\u0000\u0000\u0000\u0000\u0000\u0000\u0000\u0000\u0000\u0000\u0000\u0000\u0000\u0000\u0000\u0000\u0000\u0000\u0000\u0000\u0000\u0000\u0000\u0000\u0000\u0000\u0000\u0000\u0000\u0000\u0000\u0000\u0000\u0000\u0000\u0000\u0000\u0000\u0000\u0000\u0000\u0000\u0000\u0000\u0000\u0000\u0000\u0000\u0000\u0000\u0000\u0000\u0000\u0000\u0000\u0000\u0000\u0000\u0000\u0000\u0000\u0000\u0000\u0000\u0000\u0000\u0000\u0000\u0000\u0000\u0000\u0000\u0000\u0000\u0000\u0000\u0000\u0000\u0000\u0000\u0000\u0000\u0000\u0000\u0000\u0000\u0000\u0000\u0000\u0000\u0000\u0000\u0000\u0000\u0000\u0000\u0000\u0000\u0000\u0000\u0000\u0000\u0000\u0000\u0000\u0000\u0000\u0000\u0000\u0000\u0000\u0000\u0000\u0000\u0000\u0000\u0000\u0000\u0000\u0000\u0000\u0000\u0000\u0000\u0000\u0000\u0000\u0000\u0000\u0000\u0000\u0000\u0000\u0000\u0000\u0000\u0000\u0000\u0000\u0000\u0000\u0000\u0000\u0000\u0000\u0000\u0000\u0000\u0000\u0000\u0000\u0000\u0000\u0000\u0000\u0000\u0000\u0000\u0000\u0000\u0000\u0000\u0000\u0000\u0000\u0000\u0000\u0000\u0000\u0000\u0000\u0000\u0000\u0000\u0000\u0000\u0000\u0000\u0000\u0000\u0000\u0000\u0000\u0000\u0000\u0000\u0000\u0000\u0000\u0000\u0000\u0000\u0000\u0000\u0000\u0000\u0000\u0000\u0000\u0000\u0000\u0000\u0000\u0000\u0000\u0000\u0000\u0000\u0000\u0000\u0000\u0000\u0000\u0000\u0000\u0000\u0000\u0000\u0000\u0000\u0000\u0000\u0000\u0000\u0000\u0000\u0000\u0000\u0000\u0000\u0000\u0000\u0000\u0000\u0000\u0000\u0000\u0000\u0000\u0000\u0000\u0000\u0000\u0000\u0000\u0000\u0000\u0000\u0000\u0000\u0000\u0000\u0000\u0000\u0000\u0000\u0000\u0000\u0000\u0000\u0000\u0000\u0000\u0000\u0000\u0000\u0000\u0000\u0000\u0000\u0000\u0000\u0000\u0000\u0000\u0000\u0000\u0000\u0000\u0000\u0000\u0000\u0000\u0000\u0000\u0000\u0000\u0000\u0000\u0000\u0000\u0000\u0000\u0000\u0000\u0000\u0000\u0000\u0000\u0000\u0000\u0000\u0000\u0000\u0000\u0000\u0000\u0000\u0000\u0000\u0000\n"
     ]
    }
   ],
   "source": [
    "## 查看加密信息\n",
    "message=binary_to_text(massage_binary)\n",
    "print(message)"
   ]
  },
  {
   "cell_type": "code",
   "execution_count": 27,
   "id": "f0ecf372",
   "metadata": {},
   "outputs": [],
   "source": [
    "##将更新后的图像块拼成一个大的\n",
    "modified_matrix=combine_dataframes(sub_blocks_final,256) #512*512的图像被2*2的block分割，一行可以分出256个block\n",
    "## 将还原的图像保存\n",
    "matrix_to_image(modified_matrix,\"Restored_image.bmp\")"
   ]
  },
  {
   "cell_type": "markdown",
   "id": "5dcec1f6",
   "metadata": {},
   "source": [
    "### PSNR计算"
   ]
  },
  {
   "cell_type": "code",
   "execution_count": 28,
   "id": "44db30af",
   "metadata": {},
   "outputs": [
    {
     "name": "stdout",
     "output_type": "stream",
     "text": [
      "PSNR : 48.571762327736465\n",
      "MSE : 0.0\n"
     ]
    }
   ],
   "source": [
    "def calculate_psnr(original, reconstructed):\n",
    "    # 计算均方误差\n",
    "    mse = np.mean((original - reconstructed) ** 2)\n",
    "    # 计算PSNR\n",
    "    max_val = 255  # 8位灰度图像的最大像素值\n",
    "    PSNR = 10 * np.log10((max_val ** 2) / mse)\n",
    "    return PSNR\n",
    "\n",
    "def calculate_mse(original, reconstructed):\n",
    "    # 计算均方误差\n",
    "    mse = np.mean((original - reconstructed) ** 2)\n",
    "    return mse\n",
    "\n",
    "original,_=grayscale_to_matrix('Lena.bmp')\n",
    "modified,_=grayscale_to_matrix(\"secret_image.bmp\")\n",
    "restored,_=grayscale_to_matrix(\"Restored_image.bmp\")\n",
    "\n",
    "psnr_value = calculate_psnr(original, modified)\n",
    "mse_value=calculate_mse(original,restored)\n",
    "\n",
    "print(\"PSNR :\", psnr_value)\n",
    "print(\"MSE :\", mse_value)"
   ]
  },
  {
   "cell_type": "markdown",
   "id": "b2cbbd97",
   "metadata": {},
   "source": [
    "### 草稿区"
   ]
  },
  {
   "cell_type": "code",
   "execution_count": 29,
   "id": "627bb30a",
   "metadata": {},
   "outputs": [],
   "source": [
    "data = {\n",
    "    '6': [191,191],\n",
    "    '7': [189,192]\n",
    "}\n",
    "df_from_dict = pd.DataFrame(data)"
   ]
  },
  {
   "cell_type": "code",
   "execution_count": 30,
   "id": "faab7aff",
   "metadata": {},
   "outputs": [
    {
     "data": {
      "text/plain": [
       "[2, 3, 4, 5, 6]"
      ]
     },
     "execution_count": 30,
     "metadata": {},
     "output_type": "execute_result"
    }
   ],
   "source": [
    "q1=[1,2,3,4,5,6]\n",
    "q1[1:]"
   ]
  },
  {
   "cell_type": "code",
   "execution_count": 31,
   "id": "9cd54940",
   "metadata": {},
   "outputs": [
    {
     "data": {
      "text/plain": [
       "[1, 3, 5, 6, 4, 2]"
      ]
     },
     "execution_count": 31,
     "metadata": {},
     "output_type": "execute_result"
    }
   ],
   "source": [
    "[1,3,5]+[6,4,2]"
   ]
  },
  {
   "cell_type": "code",
   "execution_count": 32,
   "id": "da220432",
   "metadata": {},
   "outputs": [
    {
     "data": {
      "text/html": [
       "<div>\n",
       "<style scoped>\n",
       "    .dataframe tbody tr th:only-of-type {\n",
       "        vertical-align: middle;\n",
       "    }\n",
       "\n",
       "    .dataframe tbody tr th {\n",
       "        vertical-align: top;\n",
       "    }\n",
       "\n",
       "    .dataframe thead th {\n",
       "        text-align: right;\n",
       "    }\n",
       "</style>\n",
       "<table border=\"1\" class=\"dataframe\">\n",
       "  <thead>\n",
       "    <tr style=\"text-align: right;\">\n",
       "      <th></th>\n",
       "      <th>6</th>\n",
       "      <th>7</th>\n",
       "    </tr>\n",
       "  </thead>\n",
       "  <tbody>\n",
       "    <tr>\n",
       "      <th>0</th>\n",
       "      <td>191</td>\n",
       "      <td>189</td>\n",
       "    </tr>\n",
       "    <tr>\n",
       "      <th>1</th>\n",
       "      <td>191</td>\n",
       "      <td>192</td>\n",
       "    </tr>\n",
       "  </tbody>\n",
       "</table>\n",
       "</div>"
      ],
      "text/plain": [
       "     6    7\n",
       "0  191  189\n",
       "1  191  192"
      ]
     },
     "execution_count": 32,
     "metadata": {},
     "output_type": "execute_result"
    }
   ],
   "source": [
    "df_from_dict"
   ]
  },
  {
   "cell_type": "code",
   "execution_count": 33,
   "id": "b3d0eb31",
   "metadata": {},
   "outputs": [],
   "source": [
    "def calculate_e_max(block_matrix):#传入一个图像块的灰度矩阵\n",
    "    #将灰度矩阵的像素点按灰度值大小排序\n",
    "    #sorted_list是这样的：[(2, 199), (4, 196), (1, 65), (3, 54)]\n",
    "    #以(2, 199)为例，2是像素点排序前的的原始编号，199是像素点的灰度值\n",
    "    \n",
    "    _,sorted_list=matrix_to_dict(block_matrix) \n",
    "    #print(sorted_list)\n",
    "    k=0\n",
    "    temp=sorted_list[0][1] #存储排在最前面的像素点的灰度值\n",
    "    for i in sorted_list:\n",
    "        if i[1]==temp:\n",
    "            k=k+1\n",
    "        else :\n",
    "            break\n",
    "            \n",
    "    if k ==len(sorted_list):\n",
    "        e_max=0\n",
    "        return e_max,k\n",
    "    e_max=int(sorted_list[0][1])-int(sorted_list[k][1])\n",
    "    return e_max,k\n",
    "    #if k==len(sorted_list):#说明这个block块的所有灰度值都相等，另其e_max=0\n",
    "    #    e_max=0\n",
    "    #else :\n",
    "    #    e_max=int(sorted_list[0][1])-int(sorted_list[k][1])\n",
    "   # return e_max,k"
   ]
  },
  {
   "cell_type": "code",
   "execution_count": 34,
   "id": "0c29e8fa",
   "metadata": {},
   "outputs": [
    {
     "data": {
      "text/plain": [
       "(1, 1)"
      ]
     },
     "execution_count": 34,
     "metadata": {},
     "output_type": "execute_result"
    }
   ],
   "source": [
    "calculate_e_max(df_from_dict)"
   ]
  },
  {
   "cell_type": "code",
   "execution_count": 35,
   "id": "a546cd1f",
   "metadata": {},
   "outputs": [],
   "source": [
    "for m in range(0,0):\n",
    "    print(1)"
   ]
  },
  {
   "cell_type": "code",
   "execution_count": 36,
   "id": "5366c015",
   "metadata": {},
   "outputs": [
    {
     "data": {
      "text/plain": [
       "'01'"
      ]
     },
     "execution_count": 36,
     "metadata": {},
     "output_type": "execute_result"
    }
   ],
   "source": [
    "c='0'+'1'\n",
    "c"
   ]
  },
  {
   "cell_type": "code",
   "execution_count": null,
   "id": "35b87f66",
   "metadata": {},
   "outputs": [],
   "source": []
  }
 ],
 "metadata": {
  "kernelspec": {
   "display_name": "Python 3 (ipykernel)",
   "language": "python",
   "name": "python3"
  },
  "language_info": {
   "codemirror_mode": {
    "name": "ipython",
    "version": 3
   },
   "file_extension": ".py",
   "mimetype": "text/x-python",
   "name": "python",
   "nbconvert_exporter": "python",
   "pygments_lexer": "ipython3",
   "version": "3.9.13"
  }
 },
 "nbformat": 4,
 "nbformat_minor": 5
}
