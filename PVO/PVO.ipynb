{
 "cells": [
  {
   "cell_type": "code",
   "execution_count": 40,
   "id": "32c5a597",
   "metadata": {},
   "outputs": [],
   "source": [
    "import pandas as pd\n",
    "import numpy as np\n",
    "from PIL import Image"
   ]
  },
  {
   "cell_type": "markdown",
   "id": "b20220fa",
   "metadata": {},
   "source": [
    "### 实现image与pandas矩阵互转"
   ]
  },
  {
   "cell_type": "code",
   "execution_count": 41,
   "id": "7ac46280",
   "metadata": {},
   "outputs": [],
   "source": [
    "## 这个函数将图片转为pandas灰度矩阵\n",
    "def grayscale_to_matrix(image_path):\n",
    "    # 打开图像\n",
    "    image = Image.open(image_path)\n",
    "    # 将图像转换为灰度图像\n",
    "    grayscale_image = image.convert(\"L\")\n",
    "    # 转换为 numpy 数组\n",
    "    image_np = np.array(grayscale_image)\n",
    "    #转换为pandas矩阵\n",
    "    image_df=pd.DataFrame(image_np)\n",
    "    return image_np,image_df\n",
    "\n",
    "##这个函数将矩阵转换为图片，传入一个pandas矩阵\n",
    "def matrix_to_image(matrix,name):\n",
    "    # 将 Pandas DataFrame 转换为 NumPy 数组\n",
    "    image_array = matrix.to_numpy(dtype='uint8')\n",
    "    # 创建 Image 对象\n",
    "    image = Image.fromarray(image_array)\n",
    "    # 保存图像为 BMP 文件\n",
    "    image.save(name)\n",
    "    return "
   ]
  },
  {
   "cell_type": "markdown",
   "id": "e7842b71",
   "metadata": {},
   "source": [
    "### 实现csv文件与pandas矩阵互转"
   ]
  },
  {
   "cell_type": "code",
   "execution_count": 42,
   "id": "cd37b415",
   "metadata": {},
   "outputs": [],
   "source": [
    "def to_csvs(df):\n",
    "    df.to_csv(\"out.csv\",index=False, header=False)#不保存行索引和列索引\n",
    "    \n",
    "def csv_to_matrix(file_path):\n",
    "    # 从CSV文件加载数据并转换为Pandas DataFrame\n",
    "    matrix = pd.read_csv(file_path, header=None)#header=None是说不要将第一行转换为列名\n",
    "    return matrix"
   ]
  },
  {
   "cell_type": "markdown",
   "id": "672fbdfb",
   "metadata": {},
   "source": [
    "### 将大图像切成若干图像块"
   ]
  },
  {
   "cell_type": "code",
   "execution_count": 43,
   "id": "74c50c8d",
   "metadata": {},
   "outputs": [],
   "source": [
    "# n1:图像块的高\n",
    "# n2:图像块的宽\n",
    "def split_matrix(matrix,n1,n2):\n",
    "    # 计算矩阵的行数和列数\n",
    "    rows, cols = matrix.shape\n",
    "    # 创建一个空的字典来存储子矩阵\n",
    "    sub_matrices = {}\n",
    "    \n",
    "    # 将矩阵分割为若干个 n1*n2 的子矩阵\n",
    "    index = 1\n",
    "    for i in range(0, rows, n1):\n",
    "        for j in range(0, cols, n2):\n",
    "            sub_matrix = matrix.iloc[i:i+n1, j:j+n2]\n",
    "            sub_matrices[index] = sub_matrix\n",
    "            index += 1\n",
    "    return sub_matrices"
   ]
  },
  {
   "cell_type": "markdown",
   "id": "45586f10",
   "metadata": {},
   "source": [
    "### 将若干图像块矩阵拼成一个大图像矩阵"
   ]
  },
  {
   "cell_type": "code",
   "execution_count": 44,
   "id": "e72c3172",
   "metadata": {},
   "outputs": [],
   "source": [
    "# 定义最开始的大图像矩阵被分割成“m1*m2”个小矩阵\n",
    "# m1是指大图像矩阵一行上被分割为多少个小矩阵,取决于图像块block的大小\n",
    "\n",
    "def combine_dataframes(dictionary,m1):\n",
    "    # 按照键的大小顺序对字典中的 DataFrame 进行排序\n",
    "    sorted_dfs = sorted(dictionary.items(), key=lambda x: x[0])\n",
    "    \n",
    "    # 将排序后的 DataFrame 以每 m1 个一组的方式拼接成一行\n",
    "    rows = [pd.concat([df for _, df in sorted_dfs[i:i+m1]], axis=1) for i in range(0, len(sorted_dfs), m1)]\n",
    "    \n",
    "    # 将拼接后的每行 DataFrame 组合成一个大的 DataFrame\n",
    "    result_df = pd.concat(rows, axis=0)\n",
    "    \n",
    "    return result_df\n"
   ]
  },
  {
   "cell_type": "markdown",
   "id": "94990416",
   "metadata": {},
   "source": [
    "### 将图像块的灰度矩阵转化为灰度值序列"
   ]
  },
  {
   "cell_type": "code",
   "execution_count": 45,
   "id": "c63354d1",
   "metadata": {},
   "outputs": [],
   "source": [
    "def matrix_to_dict(matrix):\n",
    "    # 将 Pandas DataFrame 转换为 NumPy 数组\n",
    "    array = matrix.to_numpy()\n",
    "    # 创建一个空的字典\n",
    "    result_dict = {}    #result_dict记录的是原始顺序的灰度矩阵信息，以“原始序号：灰度值”的形式存储\n",
    "    # 获取矩阵的行数和列数\n",
    "    rows, cols = array.shape\n",
    "    # 遍历矩阵中的每个元素，并按顺序编号存储到字典中\n",
    "    index = 1\n",
    "    for i in range(rows):\n",
    "        for j in range(cols):\n",
    "            result_dict[index] = array[i][j]\n",
    "            index += 1\n",
    "    #sorted_dict记录的是排序顺序的灰度矩阵信息，以“原始序号：灰度值”的形式存储\n",
    "    sorted_list = sorted(result_dict.items(), key=lambda x: x[1], reverse=True)\n",
    "    return result_dict,sorted_list"
   ]
  },
  {
   "cell_type": "markdown",
   "id": "3777b505",
   "metadata": {},
   "source": [
    "### 将灰度值序列转化为图像块灰度矩阵"
   ]
  },
  {
   "cell_type": "code",
   "execution_count": 46,
   "id": "9a751d90",
   "metadata": {},
   "outputs": [],
   "source": [
    "# n1:图像块的高\n",
    "# n2:图像块的宽\n",
    "def list_to_dataframe(data,n1,n2):\n",
    "    # 生成一个2x2的空DataFrame\n",
    "    matrix = pd.DataFrame(index=range(n1), columns=range(n2))\n",
    "    \n",
    "    # 按照元组的第一个元素排序\n",
    "    sorted_data = sorted(data, key=lambda x: x[0])\n",
    "    \n",
    "    # 逐个填充到DataFrame中\n",
    "    for idx, (i, j) in enumerate(sorted_data):\n",
    "        matrix.iloc[idx // n2, idx % n2] = j\n",
    "    \n",
    "    return matrix"
   ]
  },
  {
   "cell_type": "markdown",
   "id": "c12c0d4a",
   "metadata": {},
   "source": [
    "### 计算e_max"
   ]
  },
  {
   "cell_type": "code",
   "execution_count": 47,
   "id": "ff41f8bb",
   "metadata": {},
   "outputs": [],
   "source": [
    "def calculate_e_max(block_matrix):#传入一个图像块的灰度矩阵\n",
    "    #将灰度矩阵的像素点按灰度值大小排序\n",
    "    #sorted_list是这样的：[(2, 199), (4, 196), (1, 65), (3, 54)]\n",
    "    #以(2, 199)为例，2是像素点排序前的的原始编号，199是像素点的灰度值\n",
    "    _,sorted_list=matrix_to_dict(block_matrix) \n",
    "    e_max=sorted_list[0][1]-sorted_list[1][1]\n",
    "    return e_max"
   ]
  },
  {
   "cell_type": "markdown",
   "id": "244f05ba",
   "metadata": {},
   "source": [
    "### 找到一个DataFrame中的最大值以及其对应的逻辑索引"
   ]
  },
  {
   "cell_type": "code",
   "execution_count": 48,
   "id": "4b6d13fb",
   "metadata": {},
   "outputs": [],
   "source": [
    "def find_max_value_and_position(dataframe):\n",
    "    # 找到 DataFrame 中的最大值\n",
    "    max_value = dataframe.max().max()\n",
    "    # 找到最大值所在的行和列\n",
    "    row_idx, col_idx = dataframe.stack().idxmax()\n",
    "    return row_idx, col_idx"
   ]
  },
  {
   "cell_type": "markdown",
   "id": "900fe406",
   "metadata": {},
   "source": [
    "### 二进制序列与文字序列互转"
   ]
  },
  {
   "cell_type": "code",
   "execution_count": 49,
   "id": "5346bda8",
   "metadata": {},
   "outputs": [],
   "source": [
    "def binary_to_text(binary_sequence):\n",
    "    # 将二进制序列按照每8位拆分为一个字节\n",
    "    bytes_list = [binary_sequence[i:i+8] for i in range(0, len(binary_sequence), 8)]\n",
    "    # 将每个字节转换为对应的 ASCII 字符\n",
    "    text = ''.join(chr(int(byte, 2)) for byte in bytes_list)\n",
    "    return text\n",
    "\n",
    "def text_to_binary(text):\n",
    "    # 将字符串转换为 ASCII 编码的字节序列\n",
    "    bytes_text = text.encode('ascii')\n",
    "    # 将字节序列转换为二进制字符串\n",
    "    binary_text = ''.join(format(byte, '08b') for byte in bytes_text)\n",
    "    bit_list = [int(bit) for bit in binary_text]\n",
    "    return binary_text,bit_list"
   ]
  },
  {
   "cell_type": "code",
   "execution_count": null,
   "id": "b0d0e699",
   "metadata": {},
   "outputs": [],
   "source": []
  },
  {
   "cell_type": "code",
   "execution_count": null,
   "id": "e920bf68",
   "metadata": {},
   "outputs": [],
   "source": []
  },
  {
   "cell_type": "code",
   "execution_count": null,
   "id": "f86885e5",
   "metadata": {},
   "outputs": [],
   "source": []
  },
  {
   "cell_type": "markdown",
   "id": "92eeadfa",
   "metadata": {},
   "source": [
    "# 主函数"
   ]
  },
  {
   "cell_type": "markdown",
   "id": "99117217",
   "metadata": {},
   "source": [
    "### 加密部分"
   ]
  },
  {
   "cell_type": "code",
   "execution_count": 50,
   "id": "7ccb66e3",
   "metadata": {},
   "outputs": [],
   "source": [
    "image_np,image_df=grayscale_to_matrix(\"Airplane.bmp\")"
   ]
  },
  {
   "cell_type": "code",
   "execution_count": 51,
   "id": "fdb7cf85",
   "metadata": {},
   "outputs": [],
   "source": [
    "#打印载入的灰度矩阵\n",
    "#image_df"
   ]
  },
  {
   "cell_type": "code",
   "execution_count": 52,
   "id": "6b047c51",
   "metadata": {
    "scrolled": false
   },
   "outputs": [
    {
     "data": {
      "text/html": [
       "<div>\n",
       "<style scoped>\n",
       "    .dataframe tbody tr th:only-of-type {\n",
       "        vertical-align: middle;\n",
       "    }\n",
       "\n",
       "    .dataframe tbody tr th {\n",
       "        vertical-align: top;\n",
       "    }\n",
       "\n",
       "    .dataframe thead th {\n",
       "        text-align: right;\n",
       "    }\n",
       "</style>\n",
       "<table border=\"1\" class=\"dataframe\">\n",
       "  <thead>\n",
       "    <tr style=\"text-align: right;\">\n",
       "      <th></th>\n",
       "      <th>0</th>\n",
       "      <th>1</th>\n",
       "    </tr>\n",
       "  </thead>\n",
       "  <tbody>\n",
       "    <tr>\n",
       "      <th>0</th>\n",
       "      <td>65</td>\n",
       "      <td>199</td>\n",
       "    </tr>\n",
       "    <tr>\n",
       "      <th>1</th>\n",
       "      <td>54</td>\n",
       "      <td>196</td>\n",
       "    </tr>\n",
       "  </tbody>\n",
       "</table>\n",
       "</div>"
      ],
      "text/plain": [
       "    0    1\n",
       "0  65  199\n",
       "1  54  196"
      ]
     },
     "execution_count": 52,
     "metadata": {},
     "output_type": "execute_result"
    }
   ],
   "source": [
    "#图像切割成若干2*2的图像块\n",
    "sub_matrices=split_matrix(image_df,2,2)\n",
    "#打印切割的图像块以检查分割情况\n",
    "sub_matrices[1]"
   ]
  },
  {
   "cell_type": "code",
   "execution_count": 53,
   "id": "9f64230b",
   "metadata": {},
   "outputs": [],
   "source": [
    "#计算每个图像块的e_max\n",
    "sub_blocks={}#这个与sub_matrices的区别在于它记录了e_max的信息\n",
    "for (i,j) in zip(sub_matrices.keys(),sub_matrices.values()):\n",
    "    e_max=calculate_e_max(j)\n",
    "    sub_blocks[(i,e_max)]=j"
   ]
  },
  {
   "cell_type": "code",
   "execution_count": 54,
   "id": "6fa38a41",
   "metadata": {},
   "outputs": [
    {
     "name": "stdout",
     "output_type": "stream",
     "text": [
      "最大嵌入信息量为：20070 bit\n"
     ]
    }
   ],
   "source": [
    "#计算这张图片的最大嵌入信息量\n",
    "max_count=0\n",
    "for i in sub_blocks.keys():\n",
    "    if i[1]==1:\n",
    "        max_count+=1\n",
    "print(\"最大嵌入信息量为：\"+str(max_count)+\" bit\")"
   ]
  },
  {
   "cell_type": "code",
   "execution_count": 55,
   "id": "9e7f5b6a",
   "metadata": {},
   "outputs": [],
   "source": [
    "##开始信息嵌入\n",
    "secret_text=\"Poetry and melody are eternal romance. ----Victor Hugo\"\n",
    "_ ,data_1=text_to_binary(secret_text) #将加密信息转化为二进制list\n",
    "data_2=[0] * ( max_count-len(data_1) )  #因为一共有20070位嵌入数据，因此还要设定一下填充序列\n",
    "data=data_1+data_2\n",
    "#print(data)\n",
    "\n",
    "cnt=0\n",
    "for i,j in zip(sub_blocks.keys(),sub_blocks.values()):\n",
    "    if i[1]==1:\n",
    "        row,col=find_max_value_and_position(j) #定位到改block的灰度值最大的像素点，进行灰度值调整\n",
    "        sub_blocks[i].loc[row][col]=j.loc[row][col]+data[cnt] \n",
    "        cnt+=1\n",
    "    if i[1]>1:\n",
    "        row,col=find_max_value_and_position(j)\n",
    "        sub_blocks[i].loc[row][col]=j.loc[row][col]+1 \n",
    "\n",
    "sub_blocks_final={}\n",
    "for i,j in zip(sub_blocks.keys(),sub_blocks.values()):\n",
    "    sub_blocks_final[i[0]]=j        "
   ]
  },
  {
   "cell_type": "code",
   "execution_count": 56,
   "id": "84b00c4f",
   "metadata": {},
   "outputs": [],
   "source": [
    "##将修改后的图像块拼成一个大的\n",
    "modified_matrix=combine_dataframes(sub_blocks_final,256) #512*512的图像被2*2的block分割，一行可以分出256个block\n",
    "#将加密图像还原\n",
    "matrix_to_image(modified_matrix,\"secret_image.bmp\")"
   ]
  },
  {
   "cell_type": "markdown",
   "id": "100760af",
   "metadata": {},
   "source": [
    "### 解密部分"
   ]
  },
  {
   "cell_type": "code",
   "execution_count": 57,
   "id": "b97d5ef9",
   "metadata": {},
   "outputs": [],
   "source": [
    "image_np,image_df=grayscale_to_matrix(\"secret_image.bmp\")"
   ]
  },
  {
   "cell_type": "code",
   "execution_count": 58,
   "id": "776e9ec1",
   "metadata": {},
   "outputs": [
    {
     "data": {
      "text/html": [
       "<div>\n",
       "<style scoped>\n",
       "    .dataframe tbody tr th:only-of-type {\n",
       "        vertical-align: middle;\n",
       "    }\n",
       "\n",
       "    .dataframe tbody tr th {\n",
       "        vertical-align: top;\n",
       "    }\n",
       "\n",
       "    .dataframe thead th {\n",
       "        text-align: right;\n",
       "    }\n",
       "</style>\n",
       "<table border=\"1\" class=\"dataframe\">\n",
       "  <thead>\n",
       "    <tr style=\"text-align: right;\">\n",
       "      <th></th>\n",
       "      <th>0</th>\n",
       "      <th>1</th>\n",
       "    </tr>\n",
       "  </thead>\n",
       "  <tbody>\n",
       "    <tr>\n",
       "      <th>0</th>\n",
       "      <td>65</td>\n",
       "      <td>200</td>\n",
       "    </tr>\n",
       "    <tr>\n",
       "      <th>1</th>\n",
       "      <td>54</td>\n",
       "      <td>196</td>\n",
       "    </tr>\n",
       "  </tbody>\n",
       "</table>\n",
       "</div>"
      ],
      "text/plain": [
       "    0    1\n",
       "0  65  200\n",
       "1  54  196"
      ]
     },
     "execution_count": 58,
     "metadata": {},
     "output_type": "execute_result"
    }
   ],
   "source": [
    "#图像切割成若干2*2的图像块\n",
    "sub_matrices=split_matrix(image_df,2,2)\n",
    "#打印切割的图像块以检查分割情况\n",
    "sub_matrices[1]"
   ]
  },
  {
   "cell_type": "code",
   "execution_count": 59,
   "id": "44023ec1",
   "metadata": {},
   "outputs": [],
   "source": [
    "#计算每个图像块的e_max，这里是修改后的e_max\n",
    "sub_blocks={}#这个与sub_matrices的区别在于它记录了e_max的信息\n",
    "for (i,j) in zip(sub_matrices.keys(),sub_matrices.values()):\n",
    "    e_max=calculate_e_max(j)\n",
    "    sub_blocks[(i,e_max)]=j"
   ]
  },
  {
   "cell_type": "code",
   "execution_count": 60,
   "id": "1e649b35",
   "metadata": {},
   "outputs": [],
   "source": [
    "#开始信息提取，并恢复原来的图像\n",
    "massage_binary=\"\"\n",
    "for i,j in zip(sub_blocks.keys(),sub_blocks.values()):\n",
    "    if i[1]==1:\n",
    "        massage_binary=massage_binary+\"0\"\n",
    "    if i[1]==2:\n",
    "        massage_binary=massage_binary+\"1\"\n",
    "        row,col=find_max_value_and_position(j) #定位到改block的灰度值最大的像素点，进行灰度值调整\n",
    "        sub_blocks[i].loc[row][col]=j.loc[row][col]-1 \n",
    "    if i[1]>2:\n",
    "        row,col=find_max_value_and_position(j) #定位到改block的灰度值最大的像素点，进行灰度值调整\n",
    "        sub_blocks[i].loc[row][col]=j.loc[row][col]-1 \n",
    "    \n",
    "sub_blocks_final={}\n",
    "for i,j in zip(sub_blocks.keys(),sub_blocks.values()):\n",
    "    sub_blocks_final[i[0]]=j    "
   ]
  },
  {
   "cell_type": "code",
   "execution_count": 61,
   "id": "1dec9711",
   "metadata": {},
   "outputs": [
    {
     "name": "stdout",
     "output_type": "stream",
     "text": [
      "Poetry and melody are eternal romance. ----Victor Hugo\u0000\u0000\u0000\u0000\u0000\u0000\u0000\u0000\u0000\u0000\u0000\u0000\u0000\u0000\u0000\u0000\u0000\u0000\u0000\u0000\u0000\u0000\u0000\u0000\u0000\u0000\u0000\u0000\u0000\u0000\u0000\u0000\u0000\u0000\u0000\u0000\u0000\u0000\u0000\u0000\u0000\u0000\u0000\u0000\u0000\u0000\u0000\u0000\u0000\u0000\u0000\u0000\u0000\u0000\u0000\u0000\u0000\u0000\u0000\u0000\u0000\u0000\u0000\u0000\u0000\u0000\u0000\u0000\u0000\u0000\u0000\u0000\u0000\u0000\u0000\u0000\u0000\u0000\u0000\u0000\u0000\u0000\u0000\u0000\u0000\u0000\u0000\u0000\u0000\u0000\u0000\u0000\u0000\u0000\u0000\u0000\u0000\u0000\u0000\u0000\u0000\u0000\u0000\u0000\u0000\u0000\u0000\u0000\u0000\u0000\u0000\u0000\u0000\u0000\u0000\u0000\u0000\u0000\u0000\u0000\u0000\u0000\u0000\u0000\u0000\u0000\u0000\u0000\u0000\u0000\u0000\u0000\u0000\u0000\u0000\u0000\u0000\u0000\u0000\u0000\u0000\u0000\u0000\u0000\u0000\u0000\u0000\u0000\u0000\u0000\u0000\u0000\u0000\u0000\u0000\u0000\u0000\u0000\u0000\u0000\u0000\u0000\u0000\u0000\u0000\u0000\u0000\u0000\u0000\u0000\u0000\u0000\u0000\u0000\u0000\u0000\u0000\u0000\u0000\u0000\u0000\u0000\u0000\u0000\u0000\u0000\u0000\u0000\u0000\u0000\u0000\u0000\u0000\u0000\u0000\u0000\u0000\u0000\u0000\u0000\u0000\u0000\u0000\u0000\u0000\u0000\u0000\u0000\u0000\u0000\u0000\u0000\u0000\u0000\u0000\u0000\u0000\u0000\u0000\u0000\u0000\u0000\u0000\u0000\u0000\u0000\u0000\u0000\u0000\u0000\u0000\u0000\u0000\u0000\u0000\u0000\u0000\u0000\u0000\u0000\u0000\u0000\u0000\u0000\u0000\u0000\u0000\u0000\u0000\u0000\u0000\u0000\u0000\u0000\u0000\u0000\u0000\u0000\u0000\u0000\u0000\u0000\u0000\u0000\u0000\u0000\u0000\u0000\u0000\u0000\u0000\u0000\u0000\u0000\u0000\u0000\u0000\u0000\u0000\u0000\u0000\u0000\u0000\u0000\u0000\u0000\u0000\u0000\u0000\u0000\u0000\u0000\u0000\u0000\u0000\u0000\u0000\u0000\u0000\u0000\u0000\u0000\u0000\u0000\u0000\u0000\u0000\u0000\u0000\u0000\u0000\u0000\u0000\u0000\u0000\u0000\u0000\u0000\u0000\u0000\u0000\u0000\u0000\u0000\u0000\u0000\u0000\u0000\u0000\u0000\u0000\u0000\u0000\u0000\u0000\u0000\u0000\u0000\u0000\u0000\u0000\u0000\u0000\u0000\u0000\u0000\u0000\u0000\u0000\u0000\u0000\u0000\u0000\u0000\u0000\u0000\u0000\u0000\u0000\u0000\u0000\u0000\u0000\u0000\u0000\u0000\u0000\u0000\u0000\u0000\u0000\u0000\u0000\u0000\u0000\u0000\u0000\u0000\u0000\u0000\u0000\u0000\u0000\u0000\u0000\u0000\u0000\u0000\u0000\u0000\u0000\u0000\u0000\u0000\u0000\u0000\u0000\u0000\u0000\u0000\u0000\u0000\u0000\u0000\u0000\u0000\u0000\u0000\u0000\u0000\u0000\u0000\u0000\u0000\u0000\u0000\u0000\u0000\u0000\u0000\u0000\u0000\u0000\u0000\u0000\u0000\u0000\u0000\u0000\u0000\u0000\u0000\u0000\u0000\u0000\u0000\u0000\u0000\u0000\u0000\u0000\u0000\u0000\u0000\u0000\u0000\u0000\u0000\u0000\u0000\u0000\u0000\u0000\u0000\u0000\u0000\u0000\u0000\u0000\u0000\u0000\u0000\u0000\u0000\u0000\u0000\u0000\u0000\u0000\u0000\u0000\u0000\u0000\u0000\u0000\u0000\u0000\u0000\u0000\u0000\u0000\u0000\u0000\u0000\u0000\u0000\u0000\u0000\u0000\u0000\u0000\u0000\u0000\u0000\u0000\u0000\u0000\u0000\u0000\u0000\u0000\u0000\u0000\u0000\u0000\u0000\u0000\u0000\u0000\u0000\u0000\u0000\u0000\u0000\u0000\u0000\u0000\u0000\u0000\u0000\u0000\u0000\u0000\u0000\u0000\u0000\u0000\u0000\u0000\u0000\u0000\u0000\u0000\u0000\u0000\u0000\u0000\u0000\u0000\u0000\u0000\u0000\u0000\u0000\u0000\u0000\u0000\u0000\u0000\u0000\u0000\u0000\u0000\u0000\u0000\u0000\u0000\u0000\u0000\u0000\u0000\u0000\u0000\u0000\u0000\u0000\u0000\u0000\u0000\u0000\u0000\u0000\u0000\u0000\u0000\u0000\u0000\u0000\u0000\u0000\u0000\u0000\u0000\u0000\u0000\u0000\u0000\u0000\u0000\u0000\u0000\u0000\u0000\u0000\u0000\u0000\u0000\u0000\u0000\u0000\u0000\u0000\u0000\u0000\u0000\u0000\u0000\u0000\u0000\u0000\u0000\u0000\u0000\u0000\u0000\u0000\u0000\u0000\u0000\u0000\u0000\u0000\u0000\u0000\u0000\u0000\u0000\u0000\u0000\u0000\u0000\u0000\u0000\u0000\u0000\u0000\u0000\u0000\u0000\u0000\u0000\u0000\u0000\u0000\u0000\u0000\u0000\u0000\u0000\u0000\u0000\u0000\u0000\u0000\u0000\u0000\u0000\u0000\u0000\u0000\u0000\u0000\u0000\u0000\u0000\u0000\u0000\u0000\u0000\u0000\u0000\u0000\u0000\u0000\u0000\u0000\u0000\u0000\u0000\u0000\u0000\u0000\u0000\u0000\u0000\u0000\u0000\u0000\u0000\u0000\u0000\u0000\u0000\u0000\u0000\u0000\u0000\u0000\u0000\u0000\u0000\u0000\u0000\u0000\u0000\u0000\u0000\u0000\u0000\u0000\u0000\u0000\u0000\u0000\u0000\u0000\u0000\u0000\u0000\u0000\u0000\u0000\u0000\u0000\u0000\u0000\u0000\u0000\u0000\u0000\u0000\u0000\u0000\u0000\u0000\u0000\u0000\u0000\u0000\u0000\u0000\u0000\u0000\u0000\u0000\u0000\u0000\u0000\u0000\u0000\u0000\u0000\u0000\u0000\u0000\u0000\u0000\u0000\u0000\u0000\u0000\u0000\u0000\u0000\u0000\u0000\u0000\u0000\u0000\u0000\u0000\u0000\u0000\u0000\u0000\u0000\u0000\u0000\u0000\u0000\u0000\u0000\u0000\u0000\u0000\u0000\u0000\u0000\u0000\u0000\u0000\u0000\u0000\u0000\u0000\u0000\u0000\u0000\u0000\u0000\u0000\u0000\u0000\u0000\u0000\u0000\u0000\u0000\u0000\u0000\u0000\u0000\u0000\u0000\u0000\u0000\u0000\u0000\u0000\u0000\u0000\u0000\u0000\u0000\u0000\u0000\u0000\u0000\u0000\u0000\u0000\u0000\u0000\u0000\u0000\u0000\u0000\u0000\u0000\u0000\u0000\u0000\u0000\u0000\u0000\u0000\u0000\u0000\u0000\u0000\u0000\u0000\u0000\u0000\u0000\u0000\u0000\u0000\u0000\u0000\u0000\u0000\u0000\u0000\u0000\u0000\u0000\u0000\u0000\u0000\u0000\u0000\u0000\u0000\u0000\u0000\u0000\u0000\u0000\u0000\u0000\u0000\u0000\u0000\u0000\u0000\u0000\u0000\u0000\u0000\u0000\u0000\u0000\u0000\u0000\u0000\u0000\u0000\u0000\u0000\u0000\u0000\u0000\u0000\u0000\u0000\u0000\u0000\u0000\u0000\u0000\u0000\u0000\u0000\u0000\u0000\u0000\u0000\u0000\u0000\u0000\u0000\u0000\u0000\u0000\u0000\u0000\u0000\u0000\u0000\u0000\u0000\u0000\u0000\u0000\u0000\u0000\u0000\u0000\u0000\u0000\u0000\u0000\u0000\u0000\u0000\u0000\u0000\u0000\u0000\u0000\u0000\u0000\u0000\u0000\u0000\u0000\u0000\u0000\u0000\u0000\u0000\u0000\u0000\u0000\u0000\u0000\u0000\u0000\u0000\u0000\u0000\u0000\u0000\u0000\u0000\u0000\u0000\u0000\u0000\u0000\u0000\u0000\u0000\u0000\u0000\u0000\u0000\u0000\u0000\u0000\u0000\u0000\u0000\u0000\u0000\u0000\u0000\u0000\u0000\u0000\u0000\u0000\u0000\u0000\u0000\u0000\u0000\u0000\u0000\u0000\u0000\u0000\u0000\u0000\u0000\u0000\u0000\u0000\u0000\u0000\u0000\u0000\u0000\u0000\u0000\u0000\u0000\u0000\u0000\u0000\u0000\u0000\u0000\u0000\u0000\u0000\u0000\u0000\u0000\u0000\u0000\u0000\u0000\u0000\u0000\u0000\u0000\u0000\u0000\u0000\u0000\u0000\u0000\u0000\u0000\u0000\u0000\u0000\u0000\u0000\u0000\u0000\u0000\u0000\u0000\u0000\u0000\u0000\u0000\u0000\u0000\u0000\u0000\u0000\u0000\u0000\u0000\u0000\u0000\u0000\u0000\u0000\u0000\u0000\u0000\u0000\u0000\u0000\u0000\u0000\u0000\u0000\u0000\u0000\u0000\u0000\u0000\u0000\u0000\u0000\u0000\u0000\u0000\u0000\u0000\u0000\u0000\u0000\u0000\u0000\u0000\u0000\u0000\u0000\u0000\u0000\u0000\u0000\u0000\u0000\u0000\u0000\u0000\u0000\u0000\u0000\u0000\u0000\u0000\u0000\u0000\u0000\u0000\u0000\u0000\u0000\u0000\u0000\u0000\u0000\u0000\u0000\u0000\u0000\u0000\u0000\u0000\u0000\u0000\u0000\u0000\u0000\u0000\u0000\u0000\u0000\u0000\u0000\u0000\u0000\u0000\u0000\u0000\u0000\u0000\u0000\u0000\u0000\u0000\u0000\u0000\u0000\u0000\u0000\u0000\u0000\u0000\u0000\u0000\u0000\u0000\u0000\u0000\u0000\u0000\u0000\u0000\u0000\u0000\u0000\u0000\u0000\u0000\u0000\u0000\u0000\u0000\u0000\u0000\u0000\u0000\u0000\u0000\u0000\u0000\u0000\u0000\u0000\u0000\u0000\u0000\u0000\u0000\u0000\u0000\u0000\u0000\u0000\u0000\u0000\u0000\u0000\u0000\u0000\u0000\u0000\u0000\u0000\u0000\u0000\u0000\u0000\u0000\u0000\u0000\u0000\u0000\u0000\u0000\u0000\u0000\u0000\u0000\u0000\u0000\u0000\u0000\u0000\u0000\u0000\u0000\u0000\u0000\u0000\u0000\u0000\u0000\u0000\u0000\u0000\u0000\u0000\u0000\u0000\u0000\u0000\u0000\u0000\u0000\u0000\u0000\u0000\u0000\u0000\u0000\u0000\u0000\u0000\u0000\u0000\u0000\u0000\u0000\u0000\u0000\u0000\u0000\u0000\u0000\u0000\u0000\u0000\u0000\u0000\u0000\u0000\u0000\u0000\u0000\u0000\u0000\u0000\u0000\u0000\u0000\u0000\u0000\u0000\u0000\u0000\u0000\u0000\u0000\u0000\u0000\u0000\u0000\u0000\u0000\u0000\u0000\u0000\u0000\u0000\u0000\u0000\u0000\u0000\u0000\u0000\u0000\u0000\u0000\u0000\u0000\u0000\u0000\u0000\u0000\u0000\u0000\u0000\u0000\u0000\u0000\u0000\u0000\u0000\u0000\u0000\u0000\u0000\u0000\u0000\u0000\u0000\u0000\u0000\u0000\u0000\u0000\u0000\u0000\u0000\u0000\u0000\u0000\u0000\u0000\u0000\u0000\u0000\u0000\u0000\u0000\u0000\u0000\u0000\u0000\u0000\u0000\u0000\u0000\u0000\u0000\u0000\u0000\u0000\u0000\u0000\u0000\u0000\u0000\u0000\u0000\u0000\u0000\u0000\u0000\u0000\u0000\u0000\u0000\u0000\u0000\u0000\u0000\u0000\u0000\u0000\u0000\u0000\u0000\u0000\u0000\u0000\u0000\u0000\u0000\u0000\u0000\u0000\u0000\u0000\u0000\u0000\u0000\u0000\u0000\u0000\u0000\u0000\u0000\u0000\u0000\u0000\u0000\u0000\u0000\u0000\u0000\u0000\u0000\u0000\u0000\u0000\u0000\u0000\u0000\u0000\u0000\u0000\u0000\u0000\u0000\u0000\u0000\u0000\u0000\u0000\u0000\u0000\u0000\u0000\u0000\u0000\u0000\u0000\u0000\u0000\u0000\u0000\u0000\u0000\u0000\u0000\u0000\u0000\u0000\u0000\u0000\u0000\u0000\u0000\u0000\u0000\u0000\u0000\u0000\u0000\u0000\u0000\u0000\u0000\u0000\u0000\u0000\u0000\u0000\u0000\u0000\u0000\u0000\u0000\u0000\u0000\u0000\u0000\u0000\u0000\u0000\u0000\u0000\u0000\u0000\u0000\u0000\u0000\u0000\u0000\u0000\u0000\u0000\u0000\u0000\u0000\u0000\u0000\u0000\u0000\u0000\u0000\u0000\u0000\u0000\u0000\u0000\u0000\u0000\u0000\u0000\u0000\u0000\u0000\u0000\u0000\u0000\u0000\u0000\u0000\u0000\u0000\u0000\u0000\u0000\u0000\u0000\u0000\u0000\u0000\u0000\u0000\u0000\u0000\u0000\u0000\u0000\u0000\u0000\u0000\u0000\u0000\u0000\u0000\u0000\u0000\u0000\u0000\u0000\u0000\u0000\u0000\u0000\u0000\u0000\u0000\u0000\u0000\u0000\u0000\u0000\u0000\u0000\u0000\u0000\u0000\u0000\u0000\u0000\u0000\u0000\u0000\u0000\u0000\u0000\u0000\u0000\u0000\u0000\u0000\u0000\u0000\u0000\u0000\u0000\u0000\u0000\u0000\u0000\u0000\u0000\u0000\u0000\u0000\u0000\u0000\u0000\u0000\u0000\u0000\u0000\u0000\u0000\u0000\u0000\u0000\u0000\u0000\u0000\u0000\u0000\u0000\u0000\u0000\u0000\u0000\u0000\u0000\u0000\u0000\u0000\u0000\u0000\u0000\u0000\u0000\u0000\u0000\u0000\u0000\u0000\u0000\u0000\u0000\u0000\u0000\u0000\u0000\u0000\u0000\u0000\u0000\u0000\u0000\u0000\u0000\u0000\u0000\u0000\u0000\u0000\u0000\u0000\u0000\u0000\u0000\u0000\u0000\u0000\u0000\u0000\u0000\u0000\u0000\u0000\u0000\u0000\u0000\u0000\u0000\u0000\u0000\u0000\u0000\u0000\u0000\u0000\u0000\u0000\u0000\u0000\u0000\u0000\u0000\u0000\u0000\u0000\u0000\u0000\u0000\u0000\u0000\u0000\u0000\u0000\u0000\u0000\u0000\u0000\u0000\u0000\u0000\u0000\u0000\u0000\u0000\u0000\u0000\u0000\u0000\u0000\u0000\u0000\u0000\u0000\u0000\u0000\u0000\u0000\u0000\u0000\u0000\u0000\u0000\u0000\u0000\u0000\u0000\u0000\u0000\u0000\u0000\u0000\u0000\u0000\u0000\u0000\u0000\u0000\u0000\u0000\u0000\u0000\u0000\u0000\u0000\u0000\u0000\u0000\u0000\u0000\u0000\u0000\u0000\u0000\u0000\u0000\u0000\u0000\u0000\u0000\u0000\u0000\u0000\u0000\u0000\u0000\u0000\u0000\u0000\u0000\u0000\u0000\u0000\u0000\u0000\u0000\u0000\u0000\u0000\u0000\u0000\u0000\u0000\u0000\u0000\u0000\u0000\u0000\u0000\u0000\u0000\u0000\u0000\u0000\u0000\u0000\u0000\u0000\u0000\u0000\u0000\u0000\u0000\u0000\u0000\u0000\u0000\u0000\u0000\u0000\u0000\u0000\u0000\u0000\u0000\u0000\u0000\u0000\u0000\u0000\u0000\u0000\u0000\u0000\u0000\u0000\u0000\u0000\u0000\u0000\u0000\u0000\u0000\u0000\u0000\u0000\u0000\u0000\u0000\u0000\u0000\u0000\u0000\u0000\u0000\u0000\u0000\u0000\u0000\u0000\u0000\u0000\u0000\u0000\u0000\u0000\u0000\u0000\u0000\u0000\u0000\u0000\u0000\u0000\u0000\u0000\u0000\u0000\u0000\u0000\u0000\u0000\u0000\u0000\u0000\u0000\u0000\u0000\u0000\u0000\u0000\u0000\u0000\u0000\u0000\u0000\u0000\u0000\u0000\u0000\u0000\u0000\u0000\u0000\u0000\u0000\u0000\u0000\u0000\u0000\u0000\u0000\u0000\u0000\u0000\u0000\u0000\u0000\u0000\u0000\u0000\u0000\u0000\u0000\u0000\u0000\u0000\u0000\u0000\u0000\u0000\u0000\u0000\u0000\u0000\u0000\u0000\u0000\u0000\u0000\u0000\u0000\u0000\u0000\u0000\u0000\u0000\u0000\u0000\u0000\u0000\u0000\u0000\u0000\u0000\u0000\u0000\u0000\u0000\u0000\u0000\u0000\u0000\u0000\u0000\u0000\u0000\u0000\u0000\u0000\u0000\u0000\u0000\u0000\u0000\u0000\u0000\u0000\u0000\u0000\u0000\u0000\u0000\u0000\u0000\u0000\u0000\u0000\u0000\u0000\u0000\u0000\u0000\u0000\u0000\u0000\u0000\u0000\u0000\u0000\u0000\u0000\u0000\u0000\u0000\u0000\u0000\u0000\u0000\u0000\u0000\u0000\u0000\u0000\u0000\u0000\u0000\u0000\u0000\u0000\u0000\u0000\u0000\u0000\u0000\u0000\u0000\u0000\u0000\u0000\u0000\u0000\u0000\u0000\u0000\u0000\u0000\u0000\u0000\u0000\u0000\u0000\u0000\u0000\u0000\u0000\u0000\u0000\u0000\u0000\u0000\u0000\u0000\u0000\u0000\u0000\u0000\u0000\u0000\u0000\u0000\u0000\u0000\u0000\u0000\u0000\u0000\u0000\u0000\u0000\u0000\u0000\u0000\u0000\u0000\u0000\u0000\u0000\u0000\u0000\u0000\u0000\u0000\u0000\u0000\u0000\u0000\u0000\u0000\u0000\u0000\u0000\u0000\u0000\u0000\u0000\u0000\u0000\u0000\u0000\u0000\u0000\u0000\u0000\u0000\u0000\u0000\u0000\u0000\u0000\u0000\u0000\u0000\u0000\u0000\u0000\u0000\u0000\u0000\u0000\u0000\u0000\u0000\u0000\u0000\u0000\u0000\u0000\u0000\u0000\u0000\u0000\u0000\u0000\u0000\u0000\u0000\u0000\u0000\u0000\u0000\u0000\u0000\u0000\u0000\u0000\u0000\u0000\u0000\u0000\u0000\u0000\u0000\u0000\u0000\u0000\u0000\u0000\u0000\u0000\u0000\u0000\u0000\u0000\u0000\u0000\u0000\u0000\u0000\u0000\u0000\u0000\u0000\u0000\u0000\u0000\u0000\u0000\u0000\u0000\u0000\u0000\u0000\u0000\u0000\u0000\u0000\u0000\u0000\u0000\u0000\u0000\u0000\u0000\u0000\u0000\u0000\u0000\u0000\u0000\u0000\u0000\u0000\u0000\u0000\u0000\u0000\u0000\u0000\u0000\u0000\u0000\u0000\u0000\u0000\u0000\u0000\u0000\u0000\u0000\u0000\u0000\u0000\u0000\u0000\u0000\u0000\u0000\u0000\u0000\u0000\u0000\u0000\u0000\u0000\u0000\u0000\u0000\u0000\u0000\u0000\u0000\u0000\u0000\u0000\u0000\u0000\u0000\u0000\u0000\u0000\u0000\u0000\u0000\u0000\u0000\u0000\u0000\u0000\u0000\u0000\u0000\u0000\u0000\u0000\u0000\u0000\u0000\u0000\u0000\u0000\u0000\u0000\u0000\u0000\u0000\u0000\u0000\u0000\u0000\u0000\u0000\u0000\u0000\u0000\u0000\u0000\u0000\u0000\u0000\u0000\u0000\u0000\u0000\u0000\u0000\u0000\u0000\u0000\u0000\u0000\u0000\u0000\u0000\u0000\u0000\u0000\u0000\u0000\u0000\u0000\u0000\u0000\u0000\u0000\u0000\u0000\u0000\u0000\u0000\u0000\u0000\u0000\u0000\u0000\u0000\u0000\u0000\u0000\u0000\u0000\u0000\u0000\u0000\u0000\u0000\u0000\u0000\u0000\u0000\u0000\u0000\u0000\u0000\u0000\u0000\u0000\u0000\u0000\u0000\u0000\u0000\u0000\u0000\u0000\u0000\u0000\u0000\u0000\u0000\u0000\u0000\u0000\u0000\u0000\u0000\u0000\u0000\u0000\u0000\u0000\u0000\u0000\u0000\u0000\u0000\u0000\u0000\u0000\u0000\u0000\u0000\u0000\u0000\u0000\u0000\u0000\u0000\u0000\u0000\u0000\u0000\u0000\u0000\u0000\u0000\u0000\u0000\u0000\u0000\u0000\u0000\u0000\u0000\u0000\u0000\u0000\u0000\u0000\u0000\u0000\u0000\u0000\u0000\u0000\u0000\u0000\u0000\u0000\u0000\u0000\u0000\u0000\u0000\u0000\u0000\u0000\u0000\u0000\u0000\u0000\u0000\u0000\n"
     ]
    }
   ],
   "source": [
    "## 查看加密信息\n",
    "message=binary_to_text(massage_binary)\n",
    "print(message)"
   ]
  },
  {
   "cell_type": "code",
   "execution_count": 62,
   "id": "3fb269f6",
   "metadata": {},
   "outputs": [],
   "source": [
    "##将更新后的图像块拼成一个大的\n",
    "modified_matrix=combine_dataframes(sub_blocks_final,256) #512*512的图像被2*2的block分割，一行可以分出256个block\n",
    "## 将还原的图像保存\n",
    "matrix_to_image(modified_matrix,\"Restored_image.bmp\")"
   ]
  },
  {
   "cell_type": "markdown",
   "id": "5dcec1f6",
   "metadata": {},
   "source": [
    "### PSNR计算"
   ]
  },
  {
   "cell_type": "code",
   "execution_count": 63,
   "id": "44db30af",
   "metadata": {},
   "outputs": [
    {
     "name": "stdout",
     "output_type": "stream",
     "text": [
      "PSNR : 57.55353981561058\n",
      "MSE : 0.0\n"
     ]
    }
   ],
   "source": [
    "def calculate_psnr(original, reconstructed):\n",
    "    # 计算均方误差\n",
    "    mse = np.mean((original - reconstructed) ** 2)\n",
    "    # 计算PSNR\n",
    "    max_val = 255  # 8位灰度图像的最大像素值\n",
    "    PSNR = 10 * np.log10((max_val ** 2) / mse)\n",
    "    return PSNR\n",
    "\n",
    "def calculate_mse(original, reconstructed):\n",
    "    # 计算均方误差\n",
    "    mse = np.mean((original - reconstructed) ** 2)\n",
    "    return mse\n",
    "\n",
    "original,_=grayscale_to_matrix(\"Airplane.bmp\")\n",
    "modified,_=grayscale_to_matrix(\"secret_image.bmp\")\n",
    "restored,_=grayscale_to_matrix(\"Restored_image.bmp\")\n",
    "\n",
    "psnr_value = calculate_psnr(original, modified)\n",
    "mse_value=calculate_mse(original,restored)\n",
    "\n",
    "print(\"PSNR :\", psnr_value)\n",
    "print(\"MSE :\", mse_value)"
   ]
  },
  {
   "cell_type": "code",
   "execution_count": null,
   "id": "ff8675be",
   "metadata": {},
   "outputs": [],
   "source": []
  }
 ],
 "metadata": {
  "kernelspec": {
   "display_name": "Python 3 (ipykernel)",
   "language": "python",
   "name": "python3"
  },
  "language_info": {
   "codemirror_mode": {
    "name": "ipython",
    "version": 3
   },
   "file_extension": ".py",
   "mimetype": "text/x-python",
   "name": "python",
   "nbconvert_exporter": "python",
   "pygments_lexer": "ipython3",
   "version": "3.9.13"
  }
 },
 "nbformat": 4,
 "nbformat_minor": 5
}
